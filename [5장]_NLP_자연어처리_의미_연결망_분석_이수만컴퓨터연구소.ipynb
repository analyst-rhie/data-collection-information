{
  "nbformat": 4,
  "nbformat_minor": 0,
  "metadata": {
    "colab": {
      "name": "[5장] NLP_자연어처리_의미 연결망 분석_이수만컴퓨터연구소.ipynb",
      "provenance": [],
      "authorship_tag": "ABX9TyMm+Kv8EOI3pNKhsCsl/OTl",
      "include_colab_link": true
    },
    "kernelspec": {
      "name": "python3",
      "display_name": "Python 3"
    },
    "language_info": {
      "name": "python"
    }
  },
  "cells": [
    {
      "cell_type": "markdown",
      "metadata": {
        "id": "view-in-github",
        "colab_type": "text"
      },
      "source": [
        "<a href=\"https://colab.research.google.com/github/analyst-rhie/data-collection-information/blob/main/%5B5%EC%9E%A5%5D_NLP_%EC%9E%90%EC%97%B0%EC%96%B4%EC%B2%98%EB%A6%AC_%EC%9D%98%EB%AF%B8_%EC%97%B0%EA%B2%B0%EB%A7%9D_%EB%B6%84%EC%84%9D_%EC%9D%B4%EC%88%98%EB%A7%8C%EC%BB%B4%ED%93%A8%ED%84%B0%EC%97%B0%EA%B5%AC%EC%86%8C.ipynb\" target=\"_parent\"><img src=\"https://colab.research.google.com/assets/colab-badge.svg\" alt=\"Open In Colab\"/></a>"
      ]
    },
    {
      "cell_type": "markdown",
      "metadata": {
        "id": "ytNFvl44YvpJ"
      },
      "source": [
        "### 의미 연결망 분석(Semantic Network Analysis)\n",
        "  * 사회 연결망 분석(Social Network Analysis)는 분석 대상 및 분석 대상들간의 관계를 연결망 구조로 표현하고 이를 계량적으로 제시하는 분석 기법\n",
        "  * 사회 연결망 분석은 사람, 장소, 물품 등의 객체 간의 관계를 분석하는데 효과적이며 주로 친구관계, 전력 공급 등을 분석하는데 사용\n",
        "  * 의미 연결망 분석에서는 일정한 범위 내에서 어휘가 동시에 등장하면 서로 연결된 것으로 간주, 이 연결관계들을 분석 \n",
        "  * ***동시에 연결한다, 연결에 초점을 맞춘다*** 가 포인트!"
      ]
    },
    {
      "cell_type": "markdown",
      "metadata": {
        "id": "2x_x8JJWZHqI"
      },
      "source": [
        "### n-gram\n",
        "* 앞, 뒤를 파악해서 n개의 토큰을 묶어내는 것이 n-gram이다.\n",
        "* nltk 라이브러리는 편하게 n-gram을 생성할 수 있는 함수를 제공\n",
        "* 많이 사용되는 bigrams의 경우에는 별도의 함수를 제공하니 해당 내용을 참조하여 n-gram 생성\n",
        "\n"
      ]
    },
    {
      "cell_type": "code",
      "metadata": {
        "colab": {
          "base_uri": "https://localhost:8080/"
        },
        "id": "P2WfyFAIZGcO",
        "outputId": "a188a42f-3864-4c05-85f4-282614ab9513"
      },
      "source": [
        "import nltk\n",
        "nltk.download('punkt')   "
      ],
      "execution_count": null,
      "outputs": [
        {
          "output_type": "stream",
          "name": "stdout",
          "text": [
            "[nltk_data] Downloading package punkt to /root/nltk_data...\n",
            "[nltk_data]   Unzipping tokenizers/punkt.zip.\n"
          ]
        },
        {
          "output_type": "execute_result",
          "data": {
            "text/plain": [
              "True"
            ]
          },
          "metadata": {},
          "execution_count": 1
        }
      ]
    },
    {
      "cell_type": "code",
      "metadata": {
        "colab": {
          "base_uri": "https://localhost:8080/"
        },
        "id": "E_3NQ8CBZznW",
        "outputId": "d26dcb83-3e6a-4ccd-b51d-e24044720366"
      },
      "source": [
        "from nltk import word_tokenize, bigrams\n",
        "\n",
        "sentence = \"I love data science and deep learning\"\n",
        "tokens = word_tokenize(sentence)\n",
        "\n",
        "bgram = bigrams(tokens) #토큰을 bigram으로 저장\n",
        "bgram_list = [x for x in bgram] #리스트로 바꿔봄.\n",
        "print(bgram_list)"
      ],
      "execution_count": null,
      "outputs": [
        {
          "output_type": "stream",
          "name": "stdout",
          "text": [
            "[('I', 'love'), ('love', 'data'), ('data', 'science'), ('science', 'and'), ('and', 'deep'), ('deep', 'learning')]\n"
          ]
        }
      ]
    },
    {
      "cell_type": "code",
      "metadata": {
        "colab": {
          "base_uri": "https://localhost:8080/"
        },
        "id": "nTv5j_OtZ3Ta",
        "outputId": "e898206f-324d-4bad-97fe-1159412bc925"
      },
      "source": [
        "from nltk.util import ngrams\n",
        "\n",
        "tgram = ngrams(tokens, 3) # 토큰 수 3개\n",
        "qgram = ngrams(tokens, 4) # 토큰 수 4개\n",
        "\n",
        "tgram = [x for x in tgram]\n",
        "qgram = [x for x in qgram]\n",
        "\n",
        "print(tgram)\n",
        "print(qgram)"
      ],
      "execution_count": null,
      "outputs": [
        {
          "output_type": "stream",
          "name": "stdout",
          "text": [
            "[('I', 'love', 'data'), ('love', 'data', 'science'), ('data', 'science', 'and'), ('science', 'and', 'deep'), ('and', 'deep', 'learning')]\n",
            "[('I', 'love', 'data', 'science'), ('love', 'data', 'science', 'and'), ('data', 'science', 'and', 'deep'), ('science', 'and', 'deep', 'learning')]\n"
          ]
        }
      ]
    },
    {
      "cell_type": "markdown",
      "metadata": {
        "id": "oR27ehMfapHT"
      },
      "source": [
        "### 어휘 동시 출현 빈도와 계수화\n",
        "* 동시 출현(Co-occurrence)란 두 개 이상의 어휘가 일정한 범위나 거리 내에서 함께 출현하는 것을 의미\n",
        "* 단어간의 동시 출현 관계를 분석하면 문서나 문장으로부터 두 단어가 유사한 의미를 가졌는지 등의 추상적인 정보를 얻을 수 있음\n",
        "* 동시 출현 빈도는 Window라는 지정 범위 내에서 동시 등장한 어휘를 확률 등으로 계수화 가능\n",
        "* 예를 들어, 단어 뒤 잘못된 단어가 온다면, 이를 동시 출현 빈도가 높은 단어로 교정 가능\n",
        "* 어휘 동시 출현 빈도 행렬은 하나하나 측정할 수도 있지만, 바이그램 개수를 정리하면 편리하게 만들어 볼 수 있음.\n",
        "* nltk에서 제공하는 ConditionalFreqDist 함수를 이용하면 문맥별 단어 빈도를 쉽게 측정 가능"
      ]
    },
    {
      "cell_type": "code",
      "metadata": {
        "colab": {
          "base_uri": "https://localhost:8080/"
        },
        "id": "-qJorl2najD3",
        "outputId": "ae3a1510-f609-4c1a-8e00-f38811a99691"
      },
      "source": [
        "from nltk import ConditionalFreqDist\n",
        "\n",
        "sentences = ['I love data science and deep learning', 'I love science', 'I know this code']\n",
        "tokens = [word_tokenize(x) for x in sentences]\n",
        "bgrams = [bigrams(x) for x in tokens]\n",
        "\n",
        "token = []\n",
        "for i in bgrams:\n",
        "  token +=([x for x in i])\n",
        "  # bgrams에 나오는 두개에 대해 토큰으로 뽑아냄.\n",
        "cfd = ConditionalFreqDist(token)\n",
        "cfd.conditions()"
      ],
      "execution_count": null,
      "outputs": [
        {
          "output_type": "execute_result",
          "data": {
            "text/plain": [
              "['I', 'love', 'data', 'science', 'and', 'deep', 'know', 'this']"
            ]
          },
          "metadata": {},
          "execution_count": 10
        }
      ]
    },
    {
      "cell_type": "code",
      "metadata": {
        "colab": {
          "base_uri": "https://localhost:8080/"
        },
        "id": "eHkG1L5nbYYG",
        "outputId": "7cf76010-b2d8-4d46-f236-67c4796b0789"
      },
      "source": [
        "print(cfd[\"I\"])  # cfd는 I에 대한 빈도분포를 가지고 있음"
      ],
      "execution_count": null,
      "outputs": [
        {
          "output_type": "stream",
          "name": "stdout",
          "text": [
            "<FreqDist with 2 samples and 3 outcomes>\n"
          ]
        }
      ]
    },
    {
      "cell_type": "code",
      "metadata": {
        "colab": {
          "base_uri": "https://localhost:8080/"
        },
        "id": "F7-dLREucEdj",
        "outputId": "f6bab884-2094-429e-8102-e35e010a1ca1"
      },
      "source": [
        "print(cfd[\"I\"]['love']) # I와 love가 동시 출현한 횟수가 나옴."
      ],
      "execution_count": null,
      "outputs": [
        {
          "output_type": "stream",
          "name": "stdout",
          "text": [
            "2\n"
          ]
        }
      ]
    },
    {
      "cell_type": "code",
      "metadata": {
        "colab": {
          "base_uri": "https://localhost:8080/"
        },
        "id": "9hn223eRcW83",
        "outputId": "a2e35d8b-610f-4c5d-be35-3b683ab80243"
      },
      "source": [
        "print(cfd['I'].most_common(1)) # I와 동시 출현이 많은 단어와 동시 출현한 횟수를 출력해달라."
      ],
      "execution_count": null,
      "outputs": [
        {
          "output_type": "stream",
          "name": "stdout",
          "text": [
            "[('love', 2)]\n"
          ]
        }
      ]
    },
    {
      "cell_type": "code",
      "metadata": {
        "colab": {
          "base_uri": "https://localhost:8080/"
        },
        "id": "6S8NyYaccmPw",
        "outputId": "13a798ac-de2b-4bff-9016-5a620cddd34d"
      },
      "source": [
        "import numpy as np\n",
        "freq_matrix = []\n",
        "for i in cfd.keys() :\n",
        "  temp = []\n",
        "  for j in cfd.keys():\n",
        "    temp.append(cfd[i][j]) \n",
        "  #문장과 문장, 전체 단어와 단어간의 빈도 행렬을 만듦.\n",
        "  freq_matrix.append(temp)\n",
        "freq_matrix = np.array(freq_matrix)\n",
        "\n",
        "print(cfd.keys())\n",
        "print(freq_matrix)"
      ],
      "execution_count": null,
      "outputs": [
        {
          "output_type": "stream",
          "name": "stdout",
          "text": [
            "dict_keys(['I', 'love', 'data', 'science', 'and', 'deep', 'know', 'this'])\n",
            "[[0 2 0 0 0 0 1 0]\n",
            " [0 0 1 1 0 0 0 0]\n",
            " [0 0 0 1 0 0 0 0]\n",
            " [0 0 0 0 1 0 0 0]\n",
            " [0 0 0 0 0 1 0 0]\n",
            " [0 0 0 0 0 0 0 0]\n",
            " [0 0 0 0 0 0 0 1]\n",
            " [0 0 0 0 0 0 0 0]]\n"
          ]
        }
      ]
    },
    {
      "cell_type": "markdown",
      "metadata": {
        "id": "G--f_JrNdOJz"
      },
      "source": [
        "* 해당 동시 출현 빈도 행렬을 좀 더 보기 쉽도록 데이터프레임으로 시각"
      ]
    },
    {
      "cell_type": "code",
      "metadata": {
        "colab": {
          "base_uri": "https://localhost:8080/",
          "height": 206
        },
        "id": "gTohkT6idRtl",
        "outputId": "5485a9c3-53a4-41f5-a9b5-1d7af2bff99c"
      },
      "source": [
        "import pandas as pd\n",
        "df= pd.DataFrame(freq_matrix, index=cfd.keys(), columns=cfd.keys())\n",
        "df.style.background_gradient(cmap='coolwarm')"
      ],
      "execution_count": null,
      "outputs": [
        {
          "output_type": "execute_result",
          "data": {
            "text/html": [
              "<style  type=\"text/css\" >\n",
              "#T_6dba82ea_21ba_11ec_9ca3_0242ac1c0002row0_col0,#T_6dba82ea_21ba_11ec_9ca3_0242ac1c0002row0_col2,#T_6dba82ea_21ba_11ec_9ca3_0242ac1c0002row0_col3,#T_6dba82ea_21ba_11ec_9ca3_0242ac1c0002row0_col4,#T_6dba82ea_21ba_11ec_9ca3_0242ac1c0002row0_col5,#T_6dba82ea_21ba_11ec_9ca3_0242ac1c0002row0_col7,#T_6dba82ea_21ba_11ec_9ca3_0242ac1c0002row1_col0,#T_6dba82ea_21ba_11ec_9ca3_0242ac1c0002row1_col1,#T_6dba82ea_21ba_11ec_9ca3_0242ac1c0002row1_col4,#T_6dba82ea_21ba_11ec_9ca3_0242ac1c0002row1_col5,#T_6dba82ea_21ba_11ec_9ca3_0242ac1c0002row1_col6,#T_6dba82ea_21ba_11ec_9ca3_0242ac1c0002row1_col7,#T_6dba82ea_21ba_11ec_9ca3_0242ac1c0002row2_col0,#T_6dba82ea_21ba_11ec_9ca3_0242ac1c0002row2_col1,#T_6dba82ea_21ba_11ec_9ca3_0242ac1c0002row2_col2,#T_6dba82ea_21ba_11ec_9ca3_0242ac1c0002row2_col4,#T_6dba82ea_21ba_11ec_9ca3_0242ac1c0002row2_col5,#T_6dba82ea_21ba_11ec_9ca3_0242ac1c0002row2_col6,#T_6dba82ea_21ba_11ec_9ca3_0242ac1c0002row2_col7,#T_6dba82ea_21ba_11ec_9ca3_0242ac1c0002row3_col0,#T_6dba82ea_21ba_11ec_9ca3_0242ac1c0002row3_col1,#T_6dba82ea_21ba_11ec_9ca3_0242ac1c0002row3_col2,#T_6dba82ea_21ba_11ec_9ca3_0242ac1c0002row3_col3,#T_6dba82ea_21ba_11ec_9ca3_0242ac1c0002row3_col5,#T_6dba82ea_21ba_11ec_9ca3_0242ac1c0002row3_col6,#T_6dba82ea_21ba_11ec_9ca3_0242ac1c0002row3_col7,#T_6dba82ea_21ba_11ec_9ca3_0242ac1c0002row4_col0,#T_6dba82ea_21ba_11ec_9ca3_0242ac1c0002row4_col1,#T_6dba82ea_21ba_11ec_9ca3_0242ac1c0002row4_col2,#T_6dba82ea_21ba_11ec_9ca3_0242ac1c0002row4_col3,#T_6dba82ea_21ba_11ec_9ca3_0242ac1c0002row4_col4,#T_6dba82ea_21ba_11ec_9ca3_0242ac1c0002row4_col6,#T_6dba82ea_21ba_11ec_9ca3_0242ac1c0002row4_col7,#T_6dba82ea_21ba_11ec_9ca3_0242ac1c0002row5_col0,#T_6dba82ea_21ba_11ec_9ca3_0242ac1c0002row5_col1,#T_6dba82ea_21ba_11ec_9ca3_0242ac1c0002row5_col2,#T_6dba82ea_21ba_11ec_9ca3_0242ac1c0002row5_col3,#T_6dba82ea_21ba_11ec_9ca3_0242ac1c0002row5_col4,#T_6dba82ea_21ba_11ec_9ca3_0242ac1c0002row5_col5,#T_6dba82ea_21ba_11ec_9ca3_0242ac1c0002row5_col6,#T_6dba82ea_21ba_11ec_9ca3_0242ac1c0002row5_col7,#T_6dba82ea_21ba_11ec_9ca3_0242ac1c0002row6_col0,#T_6dba82ea_21ba_11ec_9ca3_0242ac1c0002row6_col1,#T_6dba82ea_21ba_11ec_9ca3_0242ac1c0002row6_col2,#T_6dba82ea_21ba_11ec_9ca3_0242ac1c0002row6_col3,#T_6dba82ea_21ba_11ec_9ca3_0242ac1c0002row6_col4,#T_6dba82ea_21ba_11ec_9ca3_0242ac1c0002row6_col5,#T_6dba82ea_21ba_11ec_9ca3_0242ac1c0002row6_col6,#T_6dba82ea_21ba_11ec_9ca3_0242ac1c0002row7_col0,#T_6dba82ea_21ba_11ec_9ca3_0242ac1c0002row7_col1,#T_6dba82ea_21ba_11ec_9ca3_0242ac1c0002row7_col2,#T_6dba82ea_21ba_11ec_9ca3_0242ac1c0002row7_col3,#T_6dba82ea_21ba_11ec_9ca3_0242ac1c0002row7_col4,#T_6dba82ea_21ba_11ec_9ca3_0242ac1c0002row7_col5,#T_6dba82ea_21ba_11ec_9ca3_0242ac1c0002row7_col6,#T_6dba82ea_21ba_11ec_9ca3_0242ac1c0002row7_col7{\n",
              "            background-color:  #3b4cc0;\n",
              "            color:  #f1f1f1;\n",
              "        }#T_6dba82ea_21ba_11ec_9ca3_0242ac1c0002row0_col1,#T_6dba82ea_21ba_11ec_9ca3_0242ac1c0002row0_col6,#T_6dba82ea_21ba_11ec_9ca3_0242ac1c0002row1_col2,#T_6dba82ea_21ba_11ec_9ca3_0242ac1c0002row1_col3,#T_6dba82ea_21ba_11ec_9ca3_0242ac1c0002row2_col3,#T_6dba82ea_21ba_11ec_9ca3_0242ac1c0002row3_col4,#T_6dba82ea_21ba_11ec_9ca3_0242ac1c0002row4_col5,#T_6dba82ea_21ba_11ec_9ca3_0242ac1c0002row6_col7{\n",
              "            background-color:  #b40426;\n",
              "            color:  #f1f1f1;\n",
              "        }</style><table id=\"T_6dba82ea_21ba_11ec_9ca3_0242ac1c0002\" ><thead>    <tr>        <th class=\"blank level0\" ></th>        <th class=\"col_heading level0 col0\" >I</th>        <th class=\"col_heading level0 col1\" >love</th>        <th class=\"col_heading level0 col2\" >data</th>        <th class=\"col_heading level0 col3\" >science</th>        <th class=\"col_heading level0 col4\" >and</th>        <th class=\"col_heading level0 col5\" >deep</th>        <th class=\"col_heading level0 col6\" >know</th>        <th class=\"col_heading level0 col7\" >this</th>    </tr></thead><tbody>\n",
              "                <tr>\n",
              "                        <th id=\"T_6dba82ea_21ba_11ec_9ca3_0242ac1c0002level0_row0\" class=\"row_heading level0 row0\" >I</th>\n",
              "                        <td id=\"T_6dba82ea_21ba_11ec_9ca3_0242ac1c0002row0_col0\" class=\"data row0 col0\" >0</td>\n",
              "                        <td id=\"T_6dba82ea_21ba_11ec_9ca3_0242ac1c0002row0_col1\" class=\"data row0 col1\" >2</td>\n",
              "                        <td id=\"T_6dba82ea_21ba_11ec_9ca3_0242ac1c0002row0_col2\" class=\"data row0 col2\" >0</td>\n",
              "                        <td id=\"T_6dba82ea_21ba_11ec_9ca3_0242ac1c0002row0_col3\" class=\"data row0 col3\" >0</td>\n",
              "                        <td id=\"T_6dba82ea_21ba_11ec_9ca3_0242ac1c0002row0_col4\" class=\"data row0 col4\" >0</td>\n",
              "                        <td id=\"T_6dba82ea_21ba_11ec_9ca3_0242ac1c0002row0_col5\" class=\"data row0 col5\" >0</td>\n",
              "                        <td id=\"T_6dba82ea_21ba_11ec_9ca3_0242ac1c0002row0_col6\" class=\"data row0 col6\" >1</td>\n",
              "                        <td id=\"T_6dba82ea_21ba_11ec_9ca3_0242ac1c0002row0_col7\" class=\"data row0 col7\" >0</td>\n",
              "            </tr>\n",
              "            <tr>\n",
              "                        <th id=\"T_6dba82ea_21ba_11ec_9ca3_0242ac1c0002level0_row1\" class=\"row_heading level0 row1\" >love</th>\n",
              "                        <td id=\"T_6dba82ea_21ba_11ec_9ca3_0242ac1c0002row1_col0\" class=\"data row1 col0\" >0</td>\n",
              "                        <td id=\"T_6dba82ea_21ba_11ec_9ca3_0242ac1c0002row1_col1\" class=\"data row1 col1\" >0</td>\n",
              "                        <td id=\"T_6dba82ea_21ba_11ec_9ca3_0242ac1c0002row1_col2\" class=\"data row1 col2\" >1</td>\n",
              "                        <td id=\"T_6dba82ea_21ba_11ec_9ca3_0242ac1c0002row1_col3\" class=\"data row1 col3\" >1</td>\n",
              "                        <td id=\"T_6dba82ea_21ba_11ec_9ca3_0242ac1c0002row1_col4\" class=\"data row1 col4\" >0</td>\n",
              "                        <td id=\"T_6dba82ea_21ba_11ec_9ca3_0242ac1c0002row1_col5\" class=\"data row1 col5\" >0</td>\n",
              "                        <td id=\"T_6dba82ea_21ba_11ec_9ca3_0242ac1c0002row1_col6\" class=\"data row1 col6\" >0</td>\n",
              "                        <td id=\"T_6dba82ea_21ba_11ec_9ca3_0242ac1c0002row1_col7\" class=\"data row1 col7\" >0</td>\n",
              "            </tr>\n",
              "            <tr>\n",
              "                        <th id=\"T_6dba82ea_21ba_11ec_9ca3_0242ac1c0002level0_row2\" class=\"row_heading level0 row2\" >data</th>\n",
              "                        <td id=\"T_6dba82ea_21ba_11ec_9ca3_0242ac1c0002row2_col0\" class=\"data row2 col0\" >0</td>\n",
              "                        <td id=\"T_6dba82ea_21ba_11ec_9ca3_0242ac1c0002row2_col1\" class=\"data row2 col1\" >0</td>\n",
              "                        <td id=\"T_6dba82ea_21ba_11ec_9ca3_0242ac1c0002row2_col2\" class=\"data row2 col2\" >0</td>\n",
              "                        <td id=\"T_6dba82ea_21ba_11ec_9ca3_0242ac1c0002row2_col3\" class=\"data row2 col3\" >1</td>\n",
              "                        <td id=\"T_6dba82ea_21ba_11ec_9ca3_0242ac1c0002row2_col4\" class=\"data row2 col4\" >0</td>\n",
              "                        <td id=\"T_6dba82ea_21ba_11ec_9ca3_0242ac1c0002row2_col5\" class=\"data row2 col5\" >0</td>\n",
              "                        <td id=\"T_6dba82ea_21ba_11ec_9ca3_0242ac1c0002row2_col6\" class=\"data row2 col6\" >0</td>\n",
              "                        <td id=\"T_6dba82ea_21ba_11ec_9ca3_0242ac1c0002row2_col7\" class=\"data row2 col7\" >0</td>\n",
              "            </tr>\n",
              "            <tr>\n",
              "                        <th id=\"T_6dba82ea_21ba_11ec_9ca3_0242ac1c0002level0_row3\" class=\"row_heading level0 row3\" >science</th>\n",
              "                        <td id=\"T_6dba82ea_21ba_11ec_9ca3_0242ac1c0002row3_col0\" class=\"data row3 col0\" >0</td>\n",
              "                        <td id=\"T_6dba82ea_21ba_11ec_9ca3_0242ac1c0002row3_col1\" class=\"data row3 col1\" >0</td>\n",
              "                        <td id=\"T_6dba82ea_21ba_11ec_9ca3_0242ac1c0002row3_col2\" class=\"data row3 col2\" >0</td>\n",
              "                        <td id=\"T_6dba82ea_21ba_11ec_9ca3_0242ac1c0002row3_col3\" class=\"data row3 col3\" >0</td>\n",
              "                        <td id=\"T_6dba82ea_21ba_11ec_9ca3_0242ac1c0002row3_col4\" class=\"data row3 col4\" >1</td>\n",
              "                        <td id=\"T_6dba82ea_21ba_11ec_9ca3_0242ac1c0002row3_col5\" class=\"data row3 col5\" >0</td>\n",
              "                        <td id=\"T_6dba82ea_21ba_11ec_9ca3_0242ac1c0002row3_col6\" class=\"data row3 col6\" >0</td>\n",
              "                        <td id=\"T_6dba82ea_21ba_11ec_9ca3_0242ac1c0002row3_col7\" class=\"data row3 col7\" >0</td>\n",
              "            </tr>\n",
              "            <tr>\n",
              "                        <th id=\"T_6dba82ea_21ba_11ec_9ca3_0242ac1c0002level0_row4\" class=\"row_heading level0 row4\" >and</th>\n",
              "                        <td id=\"T_6dba82ea_21ba_11ec_9ca3_0242ac1c0002row4_col0\" class=\"data row4 col0\" >0</td>\n",
              "                        <td id=\"T_6dba82ea_21ba_11ec_9ca3_0242ac1c0002row4_col1\" class=\"data row4 col1\" >0</td>\n",
              "                        <td id=\"T_6dba82ea_21ba_11ec_9ca3_0242ac1c0002row4_col2\" class=\"data row4 col2\" >0</td>\n",
              "                        <td id=\"T_6dba82ea_21ba_11ec_9ca3_0242ac1c0002row4_col3\" class=\"data row4 col3\" >0</td>\n",
              "                        <td id=\"T_6dba82ea_21ba_11ec_9ca3_0242ac1c0002row4_col4\" class=\"data row4 col4\" >0</td>\n",
              "                        <td id=\"T_6dba82ea_21ba_11ec_9ca3_0242ac1c0002row4_col5\" class=\"data row4 col5\" >1</td>\n",
              "                        <td id=\"T_6dba82ea_21ba_11ec_9ca3_0242ac1c0002row4_col6\" class=\"data row4 col6\" >0</td>\n",
              "                        <td id=\"T_6dba82ea_21ba_11ec_9ca3_0242ac1c0002row4_col7\" class=\"data row4 col7\" >0</td>\n",
              "            </tr>\n",
              "            <tr>\n",
              "                        <th id=\"T_6dba82ea_21ba_11ec_9ca3_0242ac1c0002level0_row5\" class=\"row_heading level0 row5\" >deep</th>\n",
              "                        <td id=\"T_6dba82ea_21ba_11ec_9ca3_0242ac1c0002row5_col0\" class=\"data row5 col0\" >0</td>\n",
              "                        <td id=\"T_6dba82ea_21ba_11ec_9ca3_0242ac1c0002row5_col1\" class=\"data row5 col1\" >0</td>\n",
              "                        <td id=\"T_6dba82ea_21ba_11ec_9ca3_0242ac1c0002row5_col2\" class=\"data row5 col2\" >0</td>\n",
              "                        <td id=\"T_6dba82ea_21ba_11ec_9ca3_0242ac1c0002row5_col3\" class=\"data row5 col3\" >0</td>\n",
              "                        <td id=\"T_6dba82ea_21ba_11ec_9ca3_0242ac1c0002row5_col4\" class=\"data row5 col4\" >0</td>\n",
              "                        <td id=\"T_6dba82ea_21ba_11ec_9ca3_0242ac1c0002row5_col5\" class=\"data row5 col5\" >0</td>\n",
              "                        <td id=\"T_6dba82ea_21ba_11ec_9ca3_0242ac1c0002row5_col6\" class=\"data row5 col6\" >0</td>\n",
              "                        <td id=\"T_6dba82ea_21ba_11ec_9ca3_0242ac1c0002row5_col7\" class=\"data row5 col7\" >0</td>\n",
              "            </tr>\n",
              "            <tr>\n",
              "                        <th id=\"T_6dba82ea_21ba_11ec_9ca3_0242ac1c0002level0_row6\" class=\"row_heading level0 row6\" >know</th>\n",
              "                        <td id=\"T_6dba82ea_21ba_11ec_9ca3_0242ac1c0002row6_col0\" class=\"data row6 col0\" >0</td>\n",
              "                        <td id=\"T_6dba82ea_21ba_11ec_9ca3_0242ac1c0002row6_col1\" class=\"data row6 col1\" >0</td>\n",
              "                        <td id=\"T_6dba82ea_21ba_11ec_9ca3_0242ac1c0002row6_col2\" class=\"data row6 col2\" >0</td>\n",
              "                        <td id=\"T_6dba82ea_21ba_11ec_9ca3_0242ac1c0002row6_col3\" class=\"data row6 col3\" >0</td>\n",
              "                        <td id=\"T_6dba82ea_21ba_11ec_9ca3_0242ac1c0002row6_col4\" class=\"data row6 col4\" >0</td>\n",
              "                        <td id=\"T_6dba82ea_21ba_11ec_9ca3_0242ac1c0002row6_col5\" class=\"data row6 col5\" >0</td>\n",
              "                        <td id=\"T_6dba82ea_21ba_11ec_9ca3_0242ac1c0002row6_col6\" class=\"data row6 col6\" >0</td>\n",
              "                        <td id=\"T_6dba82ea_21ba_11ec_9ca3_0242ac1c0002row6_col7\" class=\"data row6 col7\" >1</td>\n",
              "            </tr>\n",
              "            <tr>\n",
              "                        <th id=\"T_6dba82ea_21ba_11ec_9ca3_0242ac1c0002level0_row7\" class=\"row_heading level0 row7\" >this</th>\n",
              "                        <td id=\"T_6dba82ea_21ba_11ec_9ca3_0242ac1c0002row7_col0\" class=\"data row7 col0\" >0</td>\n",
              "                        <td id=\"T_6dba82ea_21ba_11ec_9ca3_0242ac1c0002row7_col1\" class=\"data row7 col1\" >0</td>\n",
              "                        <td id=\"T_6dba82ea_21ba_11ec_9ca3_0242ac1c0002row7_col2\" class=\"data row7 col2\" >0</td>\n",
              "                        <td id=\"T_6dba82ea_21ba_11ec_9ca3_0242ac1c0002row7_col3\" class=\"data row7 col3\" >0</td>\n",
              "                        <td id=\"T_6dba82ea_21ba_11ec_9ca3_0242ac1c0002row7_col4\" class=\"data row7 col4\" >0</td>\n",
              "                        <td id=\"T_6dba82ea_21ba_11ec_9ca3_0242ac1c0002row7_col5\" class=\"data row7 col5\" >0</td>\n",
              "                        <td id=\"T_6dba82ea_21ba_11ec_9ca3_0242ac1c0002row7_col6\" class=\"data row7 col6\" >0</td>\n",
              "                        <td id=\"T_6dba82ea_21ba_11ec_9ca3_0242ac1c0002row7_col7\" class=\"data row7 col7\" >0</td>\n",
              "            </tr>\n",
              "    </tbody></table>"
            ],
            "text/plain": [
              "<pandas.io.formats.style.Styler at 0x7f8fac05c390>"
            ]
          },
          "metadata": {},
          "execution_count": 21
        }
      ]
    },
    {
      "cell_type": "markdown",
      "metadata": {
        "id": "vrsuLWSpdp6T"
      },
      "source": [
        "* 동시 출현 빈도 행렬은 인접 행렬로도 간주할 수 있음.\n",
        "* networkx 라이브러리를 사용해 해당 행렬을 그래프로 시각화 가능"
      ]
    },
    {
      "cell_type": "markdown",
      "metadata": {
        "id": "sCXuCXild0zB"
      },
      "source": [
        "* 앞서 만든 데이터프레임을 그래프로 변환\n",
        "* 넘파이 배열 등으로도 가능하나, 이 경우 별도의 라벨을 지정해줘야만 "
      ]
    },
    {
      "cell_type": "code",
      "metadata": {
        "colab": {
          "base_uri": "https://localhost:8080/"
        },
        "id": "eO0judC2d49R",
        "outputId": "d1508cf0-2948-4aba-b9f1-a08424d6cfa2"
      },
      "source": [
        "import networkx as nx\n",
        "G = nx.from_pandas_adjacency(df) # 그래프를 만듦.\n",
        "\n",
        "print(G.nodes()) # 각각의 단어들에 해당하는 그래프의 노드들을 확인\n",
        "print(G.edges()) # 노드들간의 관계"
      ],
      "execution_count": null,
      "outputs": [
        {
          "output_type": "stream",
          "name": "stdout",
          "text": [
            "['I', 'love', 'data', 'science', 'and', 'deep', 'know', 'this']\n",
            "[('I', 'love'), ('I', 'know'), ('love', 'data'), ('love', 'science'), ('data', 'science'), ('science', 'and'), ('and', 'deep'), ('know', 'this')]\n"
          ]
        }
      ]
    },
    {
      "cell_type": "code",
      "metadata": {
        "colab": {
          "base_uri": "https://localhost:8080/"
        },
        "id": "5FpykeVpdzts",
        "outputId": "002457cb-b9a3-45b3-fced-2849a8b8fdcf"
      },
      "source": [
        "print(G.edges()[('I','love')]) # 단어들 간에 얼만큼 등장했는지에 대한 가중치 : 2가 들어감.\n",
        "print(G.edges()[('I','know')])"
      ],
      "execution_count": null,
      "outputs": [
        {
          "output_type": "stream",
          "name": "stdout",
          "text": [
            "{'weight': 2}\n",
            "{'weight': 1}\n"
          ]
        }
      ]
    },
    {
      "cell_type": "markdown",
      "metadata": {
        "id": "yCIimfH4ercJ"
      },
      "source": [
        "* 위처럼 보는 것보다 그래프를 그려 표현하는 것이 더 좋다."
      ]
    },
    {
      "cell_type": "code",
      "metadata": {
        "colab": {
          "base_uri": "https://localhost:8080/",
          "height": 319
        },
        "id": "Wmo25RLzdwwa",
        "outputId": "5f25625d-ceae-4a5f-c8d1-7202a53111d6"
      },
      "source": [
        "nx.draw(G, with_labels=True)"
      ],
      "execution_count": null,
      "outputs": [
        {
          "output_type": "display_data",
          "data": {
            "image/png": "[encoded data removed]",
            "text/plain": [
              "<Figure size 432x288 with 1 Axes>"
            ]
          },
          "metadata": {}
        }
      ]
    },
    {
      "cell_type": "markdown",
      "metadata": {
        "id": "95wLkAAWe2qH"
      },
      "source": [
        "* 어휘 동시 출현 빈도를 이용하면 어휘 동시 출현 확률까지 측정 가능\n",
        "* 어휘 동시 출현 확률 계산에는 nltk의 ConditionalProbDist를 이용"
      ]
    },
    {
      "cell_type": "code",
      "metadata": {
        "colab": {
          "base_uri": "https://localhost:8080/"
        },
        "id": "JitMwA8rdNZu",
        "outputId": "be04aabd-c5bf-4fd2-a52d-c73d6dfede10"
      },
      "source": [
        "from nltk.probability import ConditionalProbDist, MLEProbDist\n",
        "\n",
        "cpd = ConditionalProbDist(cfd, MLEProbDist) #확률 형태로 계산\n",
        "cpd.conditions()"
      ],
      "execution_count": null,
      "outputs": [
        {
          "output_type": "execute_result",
          "data": {
            "text/plain": [
              "['I', 'love', 'data', 'science', 'and', 'deep', 'know', 'this']"
            ]
          },
          "metadata": {},
          "execution_count": 27
        }
      ]
    },
    {
      "cell_type": "code",
      "metadata": {
        "colab": {
          "base_uri": "https://localhost:8080/"
        },
        "id": "0l7X6gYachp2",
        "outputId": "d0a2166a-4463-479a-da86-88df06870064"
      },
      "source": [
        "prob_matrix=[]\n",
        "for i in cpd.keys() :\n",
        "  prob_matrix.append([cpd[i].prob(j) for j in cpd.keys()])\n",
        "\n",
        "prob_matrix = np.array(prob_matrix)\n",
        "print(cpd.keys())\n",
        "print(prob_matrix)"
      ],
      "execution_count": null,
      "outputs": [
        {
          "output_type": "stream",
          "name": "stdout",
          "text": [
            "dict_keys(['I', 'love', 'data', 'science', 'and', 'deep', 'know', 'this'])\n",
            "[[0.         0.66666667 0.         0.         0.         0.\n",
            "  0.33333333 0.        ]\n",
            " [0.         0.         0.5        0.5        0.         0.\n",
            "  0.         0.        ]\n",
            " [0.         0.         0.         1.         0.         0.\n",
            "  0.         0.        ]\n",
            " [0.         0.         0.         0.         1.         0.\n",
            "  0.         0.        ]\n",
            " [0.         0.         0.         0.         0.         1.\n",
            "  0.         0.        ]\n",
            " [0.         0.         0.         0.         0.         0.\n",
            "  0.         0.        ]\n",
            " [0.         0.         0.         0.         0.         0.\n",
            "  0.         1.        ]\n",
            " [0.         0.         0.         0.         0.         0.\n",
            "  0.         0.        ]]\n"
          ]
        }
      ]
    },
    {
      "cell_type": "code",
      "metadata": {
        "colab": {
          "base_uri": "https://localhost:8080/",
          "height": 206
        },
        "id": "D2_TD0oEfdc6",
        "outputId": "933a3c97-bdb2-44a4-f227-9bdc8d73697d"
      },
      "source": [
        "df = pd.DataFrame(prob_matrix, index=cpd.keys(), columns=cpd.keys())\n",
        "df.style.background_gradient(cmap='coolwarm')"
      ],
      "execution_count": null,
      "outputs": [
        {
          "output_type": "execute_result",
          "data": {
            "text/html": [
              "<style  type=\"text/css\" >\n",
              "#T_f39c87ae_21bb_11ec_9ca3_0242ac1c0002row0_col0,#T_f39c87ae_21bb_11ec_9ca3_0242ac1c0002row0_col2,#T_f39c87ae_21bb_11ec_9ca3_0242ac1c0002row0_col3,#T_f39c87ae_21bb_11ec_9ca3_0242ac1c0002row0_col4,#T_f39c87ae_21bb_11ec_9ca3_0242ac1c0002row0_col5,#T_f39c87ae_21bb_11ec_9ca3_0242ac1c0002row0_col7,#T_f39c87ae_21bb_11ec_9ca3_0242ac1c0002row1_col0,#T_f39c87ae_21bb_11ec_9ca3_0242ac1c0002row1_col1,#T_f39c87ae_21bb_11ec_9ca3_0242ac1c0002row1_col4,#T_f39c87ae_21bb_11ec_9ca3_0242ac1c0002row1_col5,#T_f39c87ae_21bb_11ec_9ca3_0242ac1c0002row1_col6,#T_f39c87ae_21bb_11ec_9ca3_0242ac1c0002row1_col7,#T_f39c87ae_21bb_11ec_9ca3_0242ac1c0002row2_col0,#T_f39c87ae_21bb_11ec_9ca3_0242ac1c0002row2_col1,#T_f39c87ae_21bb_11ec_9ca3_0242ac1c0002row2_col2,#T_f39c87ae_21bb_11ec_9ca3_0242ac1c0002row2_col4,#T_f39c87ae_21bb_11ec_9ca3_0242ac1c0002row2_col5,#T_f39c87ae_21bb_11ec_9ca3_0242ac1c0002row2_col6,#T_f39c87ae_21bb_11ec_9ca3_0242ac1c0002row2_col7,#T_f39c87ae_21bb_11ec_9ca3_0242ac1c0002row3_col0,#T_f39c87ae_21bb_11ec_9ca3_0242ac1c0002row3_col1,#T_f39c87ae_21bb_11ec_9ca3_0242ac1c0002row3_col2,#T_f39c87ae_21bb_11ec_9ca3_0242ac1c0002row3_col3,#T_f39c87ae_21bb_11ec_9ca3_0242ac1c0002row3_col5,#T_f39c87ae_21bb_11ec_9ca3_0242ac1c0002row3_col6,#T_f39c87ae_21bb_11ec_9ca3_0242ac1c0002row3_col7,#T_f39c87ae_21bb_11ec_9ca3_0242ac1c0002row4_col0,#T_f39c87ae_21bb_11ec_9ca3_0242ac1c0002row4_col1,#T_f39c87ae_21bb_11ec_9ca3_0242ac1c0002row4_col2,#T_f39c87ae_21bb_11ec_9ca3_0242ac1c0002row4_col3,#T_f39c87ae_21bb_11ec_9ca3_0242ac1c0002row4_col4,#T_f39c87ae_21bb_11ec_9ca3_0242ac1c0002row4_col6,#T_f39c87ae_21bb_11ec_9ca3_0242ac1c0002row4_col7,#T_f39c87ae_21bb_11ec_9ca3_0242ac1c0002row5_col0,#T_f39c87ae_21bb_11ec_9ca3_0242ac1c0002row5_col1,#T_f39c87ae_21bb_11ec_9ca3_0242ac1c0002row5_col2,#T_f39c87ae_21bb_11ec_9ca3_0242ac1c0002row5_col3,#T_f39c87ae_21bb_11ec_9ca3_0242ac1c0002row5_col4,#T_f39c87ae_21bb_11ec_9ca3_0242ac1c0002row5_col5,#T_f39c87ae_21bb_11ec_9ca3_0242ac1c0002row5_col6,#T_f39c87ae_21bb_11ec_9ca3_0242ac1c0002row5_col7,#T_f39c87ae_21bb_11ec_9ca3_0242ac1c0002row6_col0,#T_f39c87ae_21bb_11ec_9ca3_0242ac1c0002row6_col1,#T_f39c87ae_21bb_11ec_9ca3_0242ac1c0002row6_col2,#T_f39c87ae_21bb_11ec_9ca3_0242ac1c0002row6_col3,#T_f39c87ae_21bb_11ec_9ca3_0242ac1c0002row6_col4,#T_f39c87ae_21bb_11ec_9ca3_0242ac1c0002row6_col5,#T_f39c87ae_21bb_11ec_9ca3_0242ac1c0002row6_col6,#T_f39c87ae_21bb_11ec_9ca3_0242ac1c0002row7_col0,#T_f39c87ae_21bb_11ec_9ca3_0242ac1c0002row7_col1,#T_f39c87ae_21bb_11ec_9ca3_0242ac1c0002row7_col2,#T_f39c87ae_21bb_11ec_9ca3_0242ac1c0002row7_col3,#T_f39c87ae_21bb_11ec_9ca3_0242ac1c0002row7_col4,#T_f39c87ae_21bb_11ec_9ca3_0242ac1c0002row7_col5,#T_f39c87ae_21bb_11ec_9ca3_0242ac1c0002row7_col6,#T_f39c87ae_21bb_11ec_9ca3_0242ac1c0002row7_col7{\n",
              "            background-color:  #3b4cc0;\n",
              "            color:  #f1f1f1;\n",
              "        }#T_f39c87ae_21bb_11ec_9ca3_0242ac1c0002row0_col1,#T_f39c87ae_21bb_11ec_9ca3_0242ac1c0002row0_col6,#T_f39c87ae_21bb_11ec_9ca3_0242ac1c0002row1_col2,#T_f39c87ae_21bb_11ec_9ca3_0242ac1c0002row2_col3,#T_f39c87ae_21bb_11ec_9ca3_0242ac1c0002row3_col4,#T_f39c87ae_21bb_11ec_9ca3_0242ac1c0002row4_col5,#T_f39c87ae_21bb_11ec_9ca3_0242ac1c0002row6_col7{\n",
              "            background-color:  #b40426;\n",
              "            color:  #f1f1f1;\n",
              "        }#T_f39c87ae_21bb_11ec_9ca3_0242ac1c0002row1_col3{\n",
              "            background-color:  #dddcdc;\n",
              "            color:  #000000;\n",
              "        }</style><table id=\"T_f39c87ae_21bb_11ec_9ca3_0242ac1c0002\" ><thead>    <tr>        <th class=\"blank level0\" ></th>        <th class=\"col_heading level0 col0\" >I</th>        <th class=\"col_heading level0 col1\" >love</th>        <th class=\"col_heading level0 col2\" >data</th>        <th class=\"col_heading level0 col3\" >science</th>        <th class=\"col_heading level0 col4\" >and</th>        <th class=\"col_heading level0 col5\" >deep</th>        <th class=\"col_heading level0 col6\" >know</th>        <th class=\"col_heading level0 col7\" >this</th>    </tr></thead><tbody>\n",
              "                <tr>\n",
              "                        <th id=\"T_f39c87ae_21bb_11ec_9ca3_0242ac1c0002level0_row0\" class=\"row_heading level0 row0\" >I</th>\n",
              "                        <td id=\"T_f39c87ae_21bb_11ec_9ca3_0242ac1c0002row0_col0\" class=\"data row0 col0\" >0.000000</td>\n",
              "                        <td id=\"T_f39c87ae_21bb_11ec_9ca3_0242ac1c0002row0_col1\" class=\"data row0 col1\" >0.666667</td>\n",
              "                        <td id=\"T_f39c87ae_21bb_11ec_9ca3_0242ac1c0002row0_col2\" class=\"data row0 col2\" >0.000000</td>\n",
              "                        <td id=\"T_f39c87ae_21bb_11ec_9ca3_0242ac1c0002row0_col3\" class=\"data row0 col3\" >0.000000</td>\n",
              "                        <td id=\"T_f39c87ae_21bb_11ec_9ca3_0242ac1c0002row0_col4\" class=\"data row0 col4\" >0.000000</td>\n",
              "                        <td id=\"T_f39c87ae_21bb_11ec_9ca3_0242ac1c0002row0_col5\" class=\"data row0 col5\" >0.000000</td>\n",
              "                        <td id=\"T_f39c87ae_21bb_11ec_9ca3_0242ac1c0002row0_col6\" class=\"data row0 col6\" >0.333333</td>\n",
              "                        <td id=\"T_f39c87ae_21bb_11ec_9ca3_0242ac1c0002row0_col7\" class=\"data row0 col7\" >0.000000</td>\n",
              "            </tr>\n",
              "            <tr>\n",
              "                        <th id=\"T_f39c87ae_21bb_11ec_9ca3_0242ac1c0002level0_row1\" class=\"row_heading level0 row1\" >love</th>\n",
              "                        <td id=\"T_f39c87ae_21bb_11ec_9ca3_0242ac1c0002row1_col0\" class=\"data row1 col0\" >0.000000</td>\n",
              "                        <td id=\"T_f39c87ae_21bb_11ec_9ca3_0242ac1c0002row1_col1\" class=\"data row1 col1\" >0.000000</td>\n",
              "                        <td id=\"T_f39c87ae_21bb_11ec_9ca3_0242ac1c0002row1_col2\" class=\"data row1 col2\" >0.500000</td>\n",
              "                        <td id=\"T_f39c87ae_21bb_11ec_9ca3_0242ac1c0002row1_col3\" class=\"data row1 col3\" >0.500000</td>\n",
              "                        <td id=\"T_f39c87ae_21bb_11ec_9ca3_0242ac1c0002row1_col4\" class=\"data row1 col4\" >0.000000</td>\n",
              "                        <td id=\"T_f39c87ae_21bb_11ec_9ca3_0242ac1c0002row1_col5\" class=\"data row1 col5\" >0.000000</td>\n",
              "                        <td id=\"T_f39c87ae_21bb_11ec_9ca3_0242ac1c0002row1_col6\" class=\"data row1 col6\" >0.000000</td>\n",
              "                        <td id=\"T_f39c87ae_21bb_11ec_9ca3_0242ac1c0002row1_col7\" class=\"data row1 col7\" >0.000000</td>\n",
              "            </tr>\n",
              "            <tr>\n",
              "                        <th id=\"T_f39c87ae_21bb_11ec_9ca3_0242ac1c0002level0_row2\" class=\"row_heading level0 row2\" >data</th>\n",
              "                        <td id=\"T_f39c87ae_21bb_11ec_9ca3_0242ac1c0002row2_col0\" class=\"data row2 col0\" >0.000000</td>\n",
              "                        <td id=\"T_f39c87ae_21bb_11ec_9ca3_0242ac1c0002row2_col1\" class=\"data row2 col1\" >0.000000</td>\n",
              "                        <td id=\"T_f39c87ae_21bb_11ec_9ca3_0242ac1c0002row2_col2\" class=\"data row2 col2\" >0.000000</td>\n",
              "                        <td id=\"T_f39c87ae_21bb_11ec_9ca3_0242ac1c0002row2_col3\" class=\"data row2 col3\" >1.000000</td>\n",
              "                        <td id=\"T_f39c87ae_21bb_11ec_9ca3_0242ac1c0002row2_col4\" class=\"data row2 col4\" >0.000000</td>\n",
              "                        <td id=\"T_f39c87ae_21bb_11ec_9ca3_0242ac1c0002row2_col5\" class=\"data row2 col5\" >0.000000</td>\n",
              "                        <td id=\"T_f39c87ae_21bb_11ec_9ca3_0242ac1c0002row2_col6\" class=\"data row2 col6\" >0.000000</td>\n",
              "                        <td id=\"T_f39c87ae_21bb_11ec_9ca3_0242ac1c0002row2_col7\" class=\"data row2 col7\" >0.000000</td>\n",
              "            </tr>\n",
              "            <tr>\n",
              "                        <th id=\"T_f39c87ae_21bb_11ec_9ca3_0242ac1c0002level0_row3\" class=\"row_heading level0 row3\" >science</th>\n",
              "                        <td id=\"T_f39c87ae_21bb_11ec_9ca3_0242ac1c0002row3_col0\" class=\"data row3 col0\" >0.000000</td>\n",
              "                        <td id=\"T_f39c87ae_21bb_11ec_9ca3_0242ac1c0002row3_col1\" class=\"data row3 col1\" >0.000000</td>\n",
              "                        <td id=\"T_f39c87ae_21bb_11ec_9ca3_0242ac1c0002row3_col2\" class=\"data row3 col2\" >0.000000</td>\n",
              "                        <td id=\"T_f39c87ae_21bb_11ec_9ca3_0242ac1c0002row3_col3\" class=\"data row3 col3\" >0.000000</td>\n",
              "                        <td id=\"T_f39c87ae_21bb_11ec_9ca3_0242ac1c0002row3_col4\" class=\"data row3 col4\" >1.000000</td>\n",
              "                        <td id=\"T_f39c87ae_21bb_11ec_9ca3_0242ac1c0002row3_col5\" class=\"data row3 col5\" >0.000000</td>\n",
              "                        <td id=\"T_f39c87ae_21bb_11ec_9ca3_0242ac1c0002row3_col6\" class=\"data row3 col6\" >0.000000</td>\n",
              "                        <td id=\"T_f39c87ae_21bb_11ec_9ca3_0242ac1c0002row3_col7\" class=\"data row3 col7\" >0.000000</td>\n",
              "            </tr>\n",
              "            <tr>\n",
              "                        <th id=\"T_f39c87ae_21bb_11ec_9ca3_0242ac1c0002level0_row4\" class=\"row_heading level0 row4\" >and</th>\n",
              "                        <td id=\"T_f39c87ae_21bb_11ec_9ca3_0242ac1c0002row4_col0\" class=\"data row4 col0\" >0.000000</td>\n",
              "                        <td id=\"T_f39c87ae_21bb_11ec_9ca3_0242ac1c0002row4_col1\" class=\"data row4 col1\" >0.000000</td>\n",
              "                        <td id=\"T_f39c87ae_21bb_11ec_9ca3_0242ac1c0002row4_col2\" class=\"data row4 col2\" >0.000000</td>\n",
              "                        <td id=\"T_f39c87ae_21bb_11ec_9ca3_0242ac1c0002row4_col3\" class=\"data row4 col3\" >0.000000</td>\n",
              "                        <td id=\"T_f39c87ae_21bb_11ec_9ca3_0242ac1c0002row4_col4\" class=\"data row4 col4\" >0.000000</td>\n",
              "                        <td id=\"T_f39c87ae_21bb_11ec_9ca3_0242ac1c0002row4_col5\" class=\"data row4 col5\" >1.000000</td>\n",
              "                        <td id=\"T_f39c87ae_21bb_11ec_9ca3_0242ac1c0002row4_col6\" class=\"data row4 col6\" >0.000000</td>\n",
              "                        <td id=\"T_f39c87ae_21bb_11ec_9ca3_0242ac1c0002row4_col7\" class=\"data row4 col7\" >0.000000</td>\n",
              "            </tr>\n",
              "            <tr>\n",
              "                        <th id=\"T_f39c87ae_21bb_11ec_9ca3_0242ac1c0002level0_row5\" class=\"row_heading level0 row5\" >deep</th>\n",
              "                        <td id=\"T_f39c87ae_21bb_11ec_9ca3_0242ac1c0002row5_col0\" class=\"data row5 col0\" >0.000000</td>\n",
              "                        <td id=\"T_f39c87ae_21bb_11ec_9ca3_0242ac1c0002row5_col1\" class=\"data row5 col1\" >0.000000</td>\n",
              "                        <td id=\"T_f39c87ae_21bb_11ec_9ca3_0242ac1c0002row5_col2\" class=\"data row5 col2\" >0.000000</td>\n",
              "                        <td id=\"T_f39c87ae_21bb_11ec_9ca3_0242ac1c0002row5_col3\" class=\"data row5 col3\" >0.000000</td>\n",
              "                        <td id=\"T_f39c87ae_21bb_11ec_9ca3_0242ac1c0002row5_col4\" class=\"data row5 col4\" >0.000000</td>\n",
              "                        <td id=\"T_f39c87ae_21bb_11ec_9ca3_0242ac1c0002row5_col5\" class=\"data row5 col5\" >0.000000</td>\n",
              "                        <td id=\"T_f39c87ae_21bb_11ec_9ca3_0242ac1c0002row5_col6\" class=\"data row5 col6\" >0.000000</td>\n",
              "                        <td id=\"T_f39c87ae_21bb_11ec_9ca3_0242ac1c0002row5_col7\" class=\"data row5 col7\" >0.000000</td>\n",
              "            </tr>\n",
              "            <tr>\n",
              "                        <th id=\"T_f39c87ae_21bb_11ec_9ca3_0242ac1c0002level0_row6\" class=\"row_heading level0 row6\" >know</th>\n",
              "                        <td id=\"T_f39c87ae_21bb_11ec_9ca3_0242ac1c0002row6_col0\" class=\"data row6 col0\" >0.000000</td>\n",
              "                        <td id=\"T_f39c87ae_21bb_11ec_9ca3_0242ac1c0002row6_col1\" class=\"data row6 col1\" >0.000000</td>\n",
              "                        <td id=\"T_f39c87ae_21bb_11ec_9ca3_0242ac1c0002row6_col2\" class=\"data row6 col2\" >0.000000</td>\n",
              "                        <td id=\"T_f39c87ae_21bb_11ec_9ca3_0242ac1c0002row6_col3\" class=\"data row6 col3\" >0.000000</td>\n",
              "                        <td id=\"T_f39c87ae_21bb_11ec_9ca3_0242ac1c0002row6_col4\" class=\"data row6 col4\" >0.000000</td>\n",
              "                        <td id=\"T_f39c87ae_21bb_11ec_9ca3_0242ac1c0002row6_col5\" class=\"data row6 col5\" >0.000000</td>\n",
              "                        <td id=\"T_f39c87ae_21bb_11ec_9ca3_0242ac1c0002row6_col6\" class=\"data row6 col6\" >0.000000</td>\n",
              "                        <td id=\"T_f39c87ae_21bb_11ec_9ca3_0242ac1c0002row6_col7\" class=\"data row6 col7\" >1.000000</td>\n",
              "            </tr>\n",
              "            <tr>\n",
              "                        <th id=\"T_f39c87ae_21bb_11ec_9ca3_0242ac1c0002level0_row7\" class=\"row_heading level0 row7\" >this</th>\n",
              "                        <td id=\"T_f39c87ae_21bb_11ec_9ca3_0242ac1c0002row7_col0\" class=\"data row7 col0\" >0.000000</td>\n",
              "                        <td id=\"T_f39c87ae_21bb_11ec_9ca3_0242ac1c0002row7_col1\" class=\"data row7 col1\" >0.000000</td>\n",
              "                        <td id=\"T_f39c87ae_21bb_11ec_9ca3_0242ac1c0002row7_col2\" class=\"data row7 col2\" >0.000000</td>\n",
              "                        <td id=\"T_f39c87ae_21bb_11ec_9ca3_0242ac1c0002row7_col3\" class=\"data row7 col3\" >0.000000</td>\n",
              "                        <td id=\"T_f39c87ae_21bb_11ec_9ca3_0242ac1c0002row7_col4\" class=\"data row7 col4\" >0.000000</td>\n",
              "                        <td id=\"T_f39c87ae_21bb_11ec_9ca3_0242ac1c0002row7_col5\" class=\"data row7 col5\" >0.000000</td>\n",
              "                        <td id=\"T_f39c87ae_21bb_11ec_9ca3_0242ac1c0002row7_col6\" class=\"data row7 col6\" >0.000000</td>\n",
              "                        <td id=\"T_f39c87ae_21bb_11ec_9ca3_0242ac1c0002row7_col7\" class=\"data row7 col7\" >0.000000</td>\n",
              "            </tr>\n",
              "    </tbody></table>"
            ],
            "text/plain": [
              "<pandas.io.formats.style.Styler at 0x7f8fa7779090>"
            ]
          },
          "metadata": {},
          "execution_count": 31
        }
      ]
    },
    {
      "cell_type": "markdown",
      "metadata": {
        "id": "WglphehfgGUC"
      },
      "source": [
        "* 확률 행렬도 인접 행렬로 간주할 수 있음\n",
        "* 그래프 시각화시 빈도 행렬과 동일한 결과를 얻을 수 이으나, 확률을 가중치로 사용시 부정확한 결과를 얻을 수 있음"
      ]
    },
    {
      "cell_type": "code",
      "metadata": {
        "colab": {
          "base_uri": "https://localhost:8080/"
        },
        "id": "W_taMiB4gDPD",
        "outputId": "4fd2d820-2c1b-41c1-ed0e-34c914e2e52e"
      },
      "source": [
        "prob_G = nx.from_pandas_adjacency(df)\n",
        "print(prob_G.nodes())\n",
        "print(prob_G.edges())\n"
      ],
      "execution_count": null,
      "outputs": [
        {
          "output_type": "stream",
          "name": "stdout",
          "text": [
            "['I', 'love', 'data', 'science', 'and', 'deep', 'know', 'this']\n",
            "[('I', 'love'), ('I', 'know'), ('love', 'data'), ('love', 'science'), ('data', 'science'), ('science', 'and'), ('and', 'deep'), ('know', 'this')]\n"
          ]
        }
      ]
    },
    {
      "cell_type": "code",
      "metadata": {
        "colab": {
          "base_uri": "https://localhost:8080/"
        },
        "id": "d3thfYp4gaQy",
        "outputId": "8a4e450c-e7e6-4318-aff7-06780f49597f"
      },
      "source": [
        "# 앞서 봤던 weight값을 보자.\n",
        "print(G.edges()[('I','love')])\n",
        "print(prob_G.edges()[('I','know')])"
      ],
      "execution_count": null,
      "outputs": [
        {
          "output_type": "stream",
          "name": "stdout",
          "text": [
            "{'weight': 2}\n",
            "{'weight': 0.3333333333333333}\n"
          ]
        }
      ]
    },
    {
      "cell_type": "code",
      "metadata": {
        "colab": {
          "base_uri": "https://localhost:8080/",
          "height": 319
        },
        "id": "MlzLacqIgzNW",
        "outputId": "1d518518-de46-4ff8-b416-ae4ddc4c85f9"
      },
      "source": [
        "nx.draw(prob_G, with_labels=True)"
      ],
      "execution_count": null,
      "outputs": [
        {
          "output_type": "display_data",
          "data": {
            "image/png": "[encoded data removed]",
            "text/plain": [
              "<Figure size 432x288 with 1 Axes>"
            ]
          },
          "metadata": {}
        }
      ]
    },
    {
      "cell_type": "markdown",
      "metadata": {
        "id": "ydU8xdGuhIrM"
      },
      "source": [
        "* 그래프 부분으로 표현할 때 어떤 노드가 중요한 노드인지 확인할 수 있을 까?\n",
        "\n",
        "### 중심성(Centrality)지수로 파악한다.\n",
        "* 연결망 분석에서 가장 많이 주목하는 속성은 바로 중심성 지수\n",
        "* 중심성은 전체 연결망에서 중심에 위치하는 정도를 표현하는 지표로, 이를 분석하면 연결정도, 중요도 등을 알 수 있음\n",
        "\n",
        "### 연결중심성(Degree Centrality)\n",
        "* 연결 중심성은 가장 기본적이고 직관적으로 중심성을 측정하는 지표\n",
        "* 텍스트에서 다른 단어와의 동시 출현 빈도가 많은 특정 단어는 연결 중심성이 높다고 볼 수 있음\n",
        "* 연결 정도로만 측정하면 연결망의 크기에 따라 달라져 비교가 어렵기 때문에 여러 방법으로 표준화\n",
        "* 주로 (특정 노트 i와 직접적으로 연결된 노드 수 / 노드 i와 직간접적으로 연결된 노드 수)로 계산한다."
      ]
    },
    {
      "cell_type": "markdown",
      "metadata": {
        "id": "pL0nFEpwhzg6"
      },
      "source": [
        "* 연결 중심성 계산 수식\n",
        "\n",
        "\n",
        "$$ 직접적으로 연결된 노드, degree_{ik} = \\sum_{i=1}^{N} Z_{ijk} = Z_{jk}$$\n",
        "$$ 간접적으로 연결된 노드, outdegree_{ik} = \\sum_{j=1}^{N} Z_{ijk} = Z_{ik} $$\n",
        "$$ C_{i} = \\sum_{j=1}^{n}(Z_{ij}+Z_{ji}) / \\sum_{i=1}^{n}\\sum_{j=1}^{n}(Z_{ij})\\qquad단, 0\\le C \\le 1$$\n",
        "\n",
        "* 직접적+ 간접적 노드에서 직접적으로 연결된 노드만을 남김\n",
        "\n",
        "* 해당 수식을 직접 계산할 수 있으나, networkx에는 해당 라이브러리로 구성된 그래프의 연결 중심성을 쉽게 계산해주는 함수가 존재한다."
      ]
    },
    {
      "cell_type": "code",
      "metadata": {
        "colab": {
          "base_uri": "https://localhost:8080/"
        },
        "id": "rFEN4P_ximo1",
        "outputId": "326428bc-7491-483d-d7c8-68a0b1e1402f"
      },
      "source": [
        "nx.degree_centrality(G) # 이 값이 중심성의 가중치가 된다."
      ],
      "execution_count": null,
      "outputs": [
        {
          "output_type": "execute_result",
          "data": {
            "text/plain": [
              "{'I': 0.2857142857142857,\n",
              " 'and': 0.2857142857142857,\n",
              " 'data': 0.2857142857142857,\n",
              " 'deep': 0.14285714285714285,\n",
              " 'know': 0.2857142857142857,\n",
              " 'love': 0.42857142857142855,\n",
              " 'science': 0.42857142857142855,\n",
              " 'this': 0.14285714285714285}"
            ]
          },
          "metadata": {},
          "execution_count": 39
        }
      ]
    },
    {
      "cell_type": "markdown",
      "metadata": {
        "id": "-TtaWY2lis8Z"
      },
      "source": [
        "### 위세 중심성(Eigenvector Centraility)\n",
        "* 위세 중심성은 연결된 상대 단어의 중요성에 가중치를 둠\n",
        "* 중요한 단어와 많이 연결됐다면 위세 중심성은 높아지게 됨\n",
        "* 위세 중심성은 고유 벡터로써 인접해 있는 노드의 위세 점수와 관련되어 있어 직접 계산하기는 쉽지 않음\n",
        "\n",
        "\n",
        "* 위세 중심성 계산 수식\n",
        "\n",
        "$$ P_i =\\sum_{j=1}^{N-1}P_iZ_{ji},\\qquad0 \\le P_i \\le 1$$"
      ]
    },
    {
      "cell_type": "markdown",
      "metadata": {
        "id": "T3Osio6LjLuR"
      },
      "source": [
        "* 위세 중심성 계산에는 `eigenvector_centralility`를 이용해 계산\n",
        "* `weight`로는 어휘 동시 출현 빈도를 적용"
      ]
    },
    {
      "cell_type": "code",
      "metadata": {
        "colab": {
          "base_uri": "https://localhost:8080/"
        },
        "id": "Bh27sTimhFL4",
        "outputId": "a21e6fb1-6f5c-44e0-cc4f-972cb89496c4"
      },
      "source": [
        "nx.eigenvector_centrality(G, weight='wight') #출현 빈도 값으로 사용함."
      ],
      "execution_count": null,
      "outputs": [
        {
          "output_type": "execute_result",
          "data": {
            "text/plain": [
              "{'I': 0.29326042267418495,\n",
              " 'and': 0.27702186019379066,\n",
              " 'data': 0.4574360686185217,\n",
              " 'deep': 0.11688896952645937,\n",
              " 'know': 0.15054806537664828,\n",
              " 'love': 0.5444588678327624,\n",
              " 'science': 0.5396394974482632,\n",
              " 'this': 0.06352526616240758}"
            ]
          },
          "metadata": {},
          "execution_count": 40
        }
      ]
    },
    {
      "cell_type": "markdown",
      "metadata": {
        "id": "QDamr_2xjlr5"
      },
      "source": [
        "### 근접 중심성(Closeness Centrality)\n",
        "* 근접 중심성은 한 단어가 다른 단어에 얼마나 가깝게 있는지를 측정하는 지표\n",
        "* 직접적으로 연결된 노드만 측정하는 연결 중심성과는 다르게, 근접 중심성은 직간접적으로 연결된 모든 노드들 사이의 거리를 측정\n",
        "* 근접 중심성을 측정하기 위해선 다음과 같이 계산 \n",
        "\n",
        "( 모든 노드 수 -1 / 모든 노드 i에서 모든 노드에 이르는 최단 경로 수를 모두 더한 수)\n",
        "\n",
        "\n",
        "$$ C_C(A) = \\frac{1}{\\frac{1}{N-1}\\sum_{x \\ne A}l_{X,A}} = \\frac{N-1}{\\sum_{x \\ne A}l_{X,A}} $$\n",
        "\n",
        "\n",
        "\n",
        "* 근접 중심성을 계산하기 위해선 `closeness_centrality()` 함수를 사용"
      ]
    },
    {
      "cell_type": "code",
      "metadata": {
        "colab": {
          "base_uri": "https://localhost:8080/"
        },
        "id": "rgJHELmDjjYV",
        "outputId": "02674835-da9f-4da3-fcd7-ae0e2b34be3b"
      },
      "source": [
        "nx.closeness_centrality(G, distance='weight')"
      ],
      "execution_count": null,
      "outputs": [
        {
          "output_type": "execute_result",
          "data": {
            "text/plain": [
              "{'I': 0.35,\n",
              " 'and': 0.3333333333333333,\n",
              " 'data': 0.3684210526315789,\n",
              " 'deep': 0.25925925925925924,\n",
              " 'know': 0.2916666666666667,\n",
              " 'love': 0.4375,\n",
              " 'science': 0.4117647058823529,\n",
              " 'this': 0.23333333333333334}"
            ]
          },
          "metadata": {},
          "execution_count": 41
        }
      ]
    },
    {
      "cell_type": "markdown",
      "metadata": {
        "id": "iPNLEZv1kXVr"
      },
      "source": [
        "### 매개 중심성(Betweeness Centrality)\n",
        "* 매개 중심성은 한 단어가 단어들과의 연결망을 구축하는데 얼마나 도움을 주는지 측정하는 지표\n",
        "* 매개 중심성이 높은 단어는 빈도 수가 작더라도 단어 간 의미부여 역할이 크기 때문에, 해당 단어를 제거하면 의사소통이 어려워짐\n",
        "* 매개 중심성은 모든 노드 간 최단 경로에서 특정 노드가 등장하는 횟수로 측정하며, 표준화를 위해 최댓값인 (N-1)x(N-2)/2 로 나눈다.\n",
        "\n",
        "* 매개 중심성 계산 수식\n",
        "\n",
        "$$ C_{B}^{'}(P_m) = \\frac{\\sum_i^N \\sum_j^N \\frac{g_{imj}}{g_{ij}}}{(\\frac{N^2-3N+2}{2})}, \\qquad 단, i<j,\\quad i \\ne j$$\n",
        "\n",
        "* 매개 중심성을 계산하기 위해선 `current_flow_betweenness_centrality()` 함수를 이용"
      ]
    },
    {
      "cell_type": "code",
      "metadata": {
        "colab": {
          "base_uri": "https://localhost:8080/"
        },
        "id": "V6DQmDCQkQT-",
        "outputId": "85a44ce2-8507-4c08-e19f-e11ca317394e"
      },
      "source": [
        "nx.betweenness_centrality(G)"
      ],
      "execution_count": null,
      "outputs": [
        {
          "output_type": "execute_result",
          "data": {
            "text/plain": [
              "{'I': 0.47619047619047616,\n",
              " 'and': 0.2857142857142857,\n",
              " 'data': 0.0,\n",
              " 'deep': 0.0,\n",
              " 'know': 0.2857142857142857,\n",
              " 'love': 0.5714285714285714,\n",
              " 'science': 0.47619047619047616,\n",
              " 'this': 0.0}"
            ]
          },
          "metadata": {},
          "execution_count": 43
        }
      ]
    },
    {
      "cell_type": "markdown",
      "metadata": {
        "id": "rTObFovHlO6y"
      },
      "source": [
        "### 페이지랭크(PageRank)\n",
        "* 중심은 아니지만 중심처럼 쓸 수 있는 방법 중에 가중치방법 중 페이지 랭크알고리즘이다.\n",
        "* 구글과 같은 월드 와이드 웹과 같은 하이퍼링크 구조를 가지는 문서에 상대적 중요도에 따라 가중치를 부여하는 방법\n",
        "* 이 알고리즘은 서로간의 인용과 참조로 연결된 임의의 묶음에 적용 가능\n",
        "* 페이지 랭크는 더 중요한 페이지는 더 많은 사이트로부터 링크를 받는다는 관찰에 기초"
      ]
    },
    {
      "cell_type": "code",
      "metadata": {
        "colab": {
          "base_uri": "https://localhost:8080/"
        },
        "id": "tSa9_ypmlKNY",
        "outputId": "cc256638-5f54-412a-e977-54bcf10b5956"
      },
      "source": [
        "nx.pagerank(G)"
      ],
      "execution_count": null,
      "outputs": [
        {
          "output_type": "execute_result",
          "data": {
            "text/plain": [
              "{'I': 0.1536831077679558,\n",
              " 'and': 0.12417333539164832,\n",
              " 'data': 0.10481873412175656,\n",
              " 'deep': 0.07152392879557615,\n",
              " 'know': 0.1224741813421488,\n",
              " 'love': 0.19501225218917406,\n",
              " 'science': 0.15751225722745082,\n",
              " 'this': 0.07080220316428934}"
            ]
          },
          "metadata": {},
          "execution_count": 44
        }
      ]
    },
    {
      "cell_type": "markdown",
      "metadata": {
        "id": "k5wwPyWel-I-"
      },
      "source": [
        "*  위 위세, 근접, 매개, 페이지 랭크에 대해 시각화를 진행해 보겠다."
      ]
    },
    {
      "cell_type": "code",
      "metadata": {
        "id": "UEOyLlU9mIDq"
      },
      "source": [
        ""
      ],
      "execution_count": null,
      "outputs": []
    }
  ]
}