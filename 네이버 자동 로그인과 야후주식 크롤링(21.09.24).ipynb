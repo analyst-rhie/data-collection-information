{
 "cells": [
  {
   "cell_type": "markdown",
   "metadata": {},
   "source": [
    "### Selenium 설치하기"
   ]
  },
  {
   "cell_type": "code",
   "execution_count": 1,
   "metadata": {},
   "outputs": [
    {
     "name": "stdout",
     "output_type": "stream",
     "text": [
      "Collecting selenium\n",
      "  Downloading selenium-3.141.0-py2.py3-none-any.whl (904 kB)\n",
      "Requirement already satisfied: urllib3 in c:\\users\\stat_\\anaconda3\\lib\\site-packages (from selenium) (1.25.8)\n",
      "Installing collected packages: selenium\n",
      "Successfully installed selenium-3.141.0\n"
     ]
    },
    {
     "name": "stderr",
     "output_type": "stream",
     "text": [
      "WARNING: Ignoring invalid distribution -umpy (c:\\users\\stat_\\anaconda3\\lib\\site-packages)\n",
      "WARNING: Ignoring invalid distribution -umpy (c:\\users\\stat_\\anaconda3\\lib\\site-packages)\n",
      "WARNING: Ignoring invalid distribution -umpy (c:\\users\\stat_\\anaconda3\\lib\\site-packages)\n",
      "WARNING: Ignoring invalid distribution -umpy (c:\\users\\stat_\\anaconda3\\lib\\site-packages)\n",
      "WARNING: Ignoring invalid distribution -umpy (c:\\users\\stat_\\anaconda3\\lib\\site-packages)\n",
      "WARNING: Ignoring invalid distribution -umpy (c:\\users\\stat_\\anaconda3\\lib\\site-packages)\n",
      "WARNING: Ignoring invalid distribution -umpy (c:\\users\\stat_\\anaconda3\\lib\\site-packages)\n",
      "WARNING: You are using pip version 21.1.3; however, version 21.2.4 is available.\n",
      "You should consider upgrading via the 'c:\\users\\stat_\\anaconda3\\python.exe -m pip install --upgrade pip' command.\n"
     ]
    }
   ],
   "source": [
    "!pip install selenium"
   ]
  },
  {
   "cell_type": "markdown",
   "metadata": {},
   "source": [
    "### Selenium 설치 및 사용법\n",
    "* Selenium은 자동화된 테스트 소프트웨어 그 자체이다.\n",
    "* WebDriver는 많은 브라우저에서 웹 앱을 자동적으로 테스트하는 툴입니다. 이 툴킷은 웹 페이지를 자동으로 탐색하고 유저 폼을 사용하거나 자바스크립트를 실행하는 등의 작업을 수행할 수 있습니다."
   ]
  },
  {
   "cell_type": "markdown",
   "metadata": {},
   "source": [
    "### Selenium으로 네이버 로그인하기\n",
    "\n",
    "* 1. 네이버 홈페이지에서 로그인 배너 클릭"
   ]
  },
  {
   "cell_type": "code",
   "execution_count": 53,
   "metadata": {},
   "outputs": [],
   "source": [
    "from selenium import webdriver\n",
    "chrome_driver_path = 'C:/Users/stat_/Desktop/자연어처리입문_강의자료/chromedriver.exe'\n",
    "naver_url = \"http://naver.com\"\n",
    "# browser 개체의 웹 드라이버를 크롬으로 설정\n",
    "browser = webdriver.Chrome(chrome_driver_path)\n",
    "# browser 개체에서 naver 링크 가져오기\n",
    "browser.get(naver_url) \n",
    "\n",
    "# 열린 홈페이지에서 NAVER 로그인 위치 지정\n",
    "# #account > a 부분 가져오는 법\n",
    "# 네이버 홈페이지에서 'NAVER 로그인' 오른쪽 버튼 클릭 > 검사 > 선택된부분 오른쪽버튼>\n",
    "# Copy > Copy selector 클릭 > \" \" 안에 붙여넣기\n",
    "login_button = browser.find_element_by_css_selector(\"#account > a\")\n",
    "\n",
    "#지정된 위치를 클릭.\n",
    "login_button.click()"
   ]
  },
  {
   "cell_type": "markdown",
   "metadata": {},
   "source": [
    "* 2. 로그인하기"
   ]
  },
  {
   "cell_type": "code",
   "execution_count": 54,
   "metadata": {},
   "outputs": [],
   "source": [
    "# 계정정보 개체에 입력\n",
    "naver_id = \"아이디\"\n",
    "naver_pw = \"비밀번호\"\n",
    "\n",
    "# id, pw 위치 좌표 찾기\n",
    "input_id = browser.find_element_by_css_selector(\"#id\")\n",
    "input_pw = browser.find_element_by_css_selector(\"#pw\")\n",
    " \n",
    "# 찾은 좌표로 저장한 개체값 보내기\n",
    "input_id.send_keys(naver_id)\n",
    "input_pw.send_keys(naver_pw)\n",
    "\n",
    "#로그인 버튼 찾기\n",
    "login_button2 = browser.find_element_by_css_selector(\"#log\\.login > span\")\n",
    "\n",
    "#로그인 버튼 클릭\n",
    "login_button2.click()\n",
    "#### 네이버에서 보안 문자 입력하라고 뜸."
   ]
  },
  {
   "cell_type": "code",
   "execution_count": 65,
   "metadata": {},
   "outputs": [],
   "source": [
    "# 위 과정을 러닝스푼 홈페이지로 다시 해보자.\n",
    "\n",
    "def remove_popup(driver): # 팝업 창 제거\n",
    "    try:\n",
    "        if driver.find_element_by_css_selector(\"body > div > div.modal-popup > a > div > img\"):\n",
    "            popup_element = driver.find_element_by_css_selector(\"body > div > div.modal-popup > div\")\n",
    "            popup_element.click()\n",
    "    except : print(\"There is no pop-up pages\") \n",
    "    finally: return driver\n",
    "\n",
    "\n",
    "def login_learning_spoons():\n",
    "    #웹 드라이버 연결\n",
    "    driver = webdriver.Chrome('C:/Users/stat_/Desktop/자연어처리입문_강의자료/chromedriver.exe')\n",
    "    # 러닝스푼 홈페이지 열기\n",
    "    driver.get('https://learningspoons.com/')\n",
    "    # 러닝스푼 팝업창 제거\n",
    "    driver = remove_popup(driver)\n",
    "    # 로그인창 좌표 찾고 클릭\n",
    "    element = driver.find_element_by_css_selector(\"body > header > div.header_right > ul > li > a\")\n",
    "    element.click()\n",
    "    # 로그인 아이디 패스워드 입력\n",
    "    id_ = driver.find_element_by_css_selector(\"#id_email\")\n",
    "    pw_ = driver.find_element_by_css_selector(\"#id_password\")\n",
    "    id_.send_keys(\"stat_12@naver.com\")\n",
    "    pw_.send_keys(\"skszl1004!\")\n",
    "    # 로그인 버튼 클릭\n",
    "    login_button = driver.find_element_by_css_selector(\"body > div > div > div > div > div > div.sign_form > form > button\")\n",
    "    login_button.click()\n"
   ]
  },
  {
   "cell_type": "code",
   "execution_count": 66,
   "metadata": {},
   "outputs": [
    {
     "name": "stdout",
     "output_type": "stream",
     "text": [
      "There is no pop-up pages\n"
     ]
    }
   ],
   "source": [
    "login_learning_spoons()"
   ]
  },
  {
   "cell_type": "markdown",
   "metadata": {},
   "source": [
    "### Selenium을 활용한 크롤링"
   ]
  },
  {
   "cell_type": "code",
   "execution_count": 83,
   "metadata": {},
   "outputs": [],
   "source": [
    "import random as rd # 크롤링 중단을 막기위한 트릭\n",
    "\n",
    "# webdriver 불러오기\n",
    "def get_driver(path_engine, options=None):\n",
    "    driver = webdriver.Chrome(path_engine, options=options)\n",
    "    return driver\n",
    "\n",
    "# url 접속하기\n",
    "def get_url(driver, url):\n",
    "    driver.get(url)\n",
    "    return driver\n",
    "\n",
    "# webdriver 옵션 설정\n",
    "def set_options():\n",
    "    window_sizes = [(1280, 1024),(1600,1200),(1920,1440),(1920,1080),(2560,1600),(3840,2400)]\n",
    "    options = webdriver.ChromeOptions()\n",
    "    options.add_argument('headless') # 웹 브라우저가 보이지 않게 실행\n",
    "    options.add_argument('window-size={}x{}'.format(*window_sizes[rd.randint(0,len(window_sizes)-1)]))\n",
    "    #window 사이즈를 랜덤으로 지정한다. 이는 크롤링 차단을 막기 위함.\n",
    "    options.add_argument(\"disable-gpu\") #gpu 설정 \n",
    "    options.add_argument(\"lang=ko_KR\") # 언어 설정 객체의 이름이 바뀔 수 있으므로 예외를 줄여주기 위함.\n",
    "    return options"
   ]
  },
  {
   "cell_type": "code",
   "execution_count": 105,
   "metadata": {},
   "outputs": [],
   "source": [
    "# 지수 항목과 가격 불러오기\n",
    "\n",
    "def get_info(driver):\n",
    "    output = []\n",
    "    elements = driver.find_elements_by_css_selector('h3[class=\"Maw(160px)\"]')\n",
    "    for e in elements : # h3 하위 카테고리의 a와 span 카테고리의 텍스트를 각각 _a, _span에 저장\n",
    "        _a = e.find_element_by_css_selector('a').text #항목 값\n",
    "        _span = e.find_element_by_css_selector('span').text # value 값\n",
    "        output.append((_a, _span))\n",
    "    \n",
    "    elements2 = driver.find_elements_by_css_selector('tr[class=\"dt-row Bgc($hoverBgColor):h BdB Bdbc($seperatorColor) H(44px) \"]')\n",
    "    for e2 in elements2:\n",
    "        _item = e2.find_element_by_css_selector('td[class=\"Va(t) Fz(14px) Whs(nw) Py(6px) Ta(start) Start(0) Pend(10px)\"] > p').text\n",
    "        _value = e2.find_element_by_css_selector('td[class=\"Va(t) Fz(14px) Whs(nw) Ta(end) Pstart(10px) Py(6px)\"] > fin-streamer > span').text\n",
    "        output.append((_item, _value))\n",
    "    return driver, output"
   ]
  },
  {
   "cell_type": "code",
   "execution_count": 106,
   "metadata": {},
   "outputs": [
    {
     "name": "stdout",
     "output_type": "stream",
     "text": [
      "S&P Futures 4,424.75\n",
      "Dow Futures 34,554.00\n",
      "Nasdaq Futures 15,237.00\n",
      "Russell 2000 Futures 2,246.40\n",
      "Crude Oil 73.31\n",
      "Gold 1,754.00\n",
      "Bitcoin USD +716.77\n",
      "Ethereum USD -6.05\n",
      "HEX USD +0.02\n",
      "Cardano USD +0.04\n",
      "Tether USD -0.00\n",
      "NIKE, Inc. +2.14\n",
      "Costco Wholesale Corporation +0.45\n",
      "QuantumScape Corporation +3.44\n",
      "salesforce.com, inc. +18.69\n",
      "Eargo, Inc. -14.81\n",
      "Ford Motor Company +0.48\n",
      "Apple Inc. +0.98\n",
      "Palantir Technologies Inc. +1.34\n",
      "American Airlines Group Inc. +0.38\n",
      "Bank of America Corporation +1.55\n",
      "The Hong Kong and China Gas Company Limited +0.6000\n",
      "COSCO SHIPPING Ports Limited +0.1200\n",
      "Cassava Sciences, Inc. +7.81\n",
      "QuantumScape Corporation +3.44\n",
      "Angi Inc. +1.65\n",
      "Arqit Quantum Inc. -7.60\n",
      "Spire Global, Inc. -3.77\n",
      "IronNet, Inc. -5.62\n",
      "China Evergrande Group -1.31\n",
      "Altice USA, Inc. -3.20\n",
      "ProFunds UltraSector Oil & Gas Fund Service Class +0.83\n",
      "ProFunds UltraSector Oil & Gas Fund Investor Class +0.97\n",
      "Fidelity Select Energy Portfolio +1.20\n",
      "Fidelity Advisor Energy Fund Class M +0.95\n",
      "Fidelity Advisor Energy Fund Class I +0.98\n",
      "Invesco QQQ Trust +3.41\n",
      "Arrow DWA Tactical: International ETF -0.63\n",
      "EUR/USD 1.1735\n",
      "USD/JPY 110.5290\n",
      "GBP/USD 1.3711\n",
      "AUD/USD 0.7280\n",
      "NZD/USD 0.7050\n",
      "E-Mini S&P 500 Dec 21 -12.75\n",
      "Mini Dow Jones Indus.-$5 Dec 21 -83.00\n",
      "Nasdaq 100 Dec 21 -67.25\n",
      "E-mini Russell 2000 Index Futur -8.60\n",
      "U.S. Treasury Bond Futures,Dec- -0.56\n",
      "GE Jan 2022 15.000 call -0.1000\n",
      "GE Jan 2022 12.000 call -0.2200\n",
      "GE Jan 2022 10.000 put +0.0300\n",
      "GE Jan 2022 7.000 put 0.0000\n",
      "GE Jan 2022 10.000 call -0.3000\n",
      "BCRX Jan 2022 1.000 call 0.00\n",
      "LKNCY Jan 2022 1.000 call 0.00\n",
      "MVIS Jan 2022 0.500 call 0.00\n"
     ]
    }
   ],
   "source": [
    "chrome = 'C:/Users/stat_/Desktop/자연어처리입문_강의자료/chromedriver.exe'\n",
    "URL = \"https://finance.yahoo.com/\"\n",
    "driver = get_driver(chrome, options=set_options())\n",
    "driver = get_url(driver, URL)\n",
    "driver, info = get_info(driver)\n",
    "for _info in info:\n",
    "    print(_info[0], _info[1])"
   ]
  },
  {
   "cell_type": "code",
   "execution_count": 100,
   "metadata": {},
   "outputs": [
    {
     "data": {
      "text/plain": [
       "[('Bitcoin USD', '-145.50'),\n",
       " ('Ethereum USD', '-73.05'),\n",
       " ('HEX USD', '+0.02'),\n",
       " ('Cardano USD', '-0.02'),\n",
       " ('Tether USD', '-0.00'),\n",
       " ('NIKE, Inc.', '+2.14'),\n",
       " ('Costco Wholesale Corporation', '+0.45'),\n",
       " ('QuantumScape Corporation', '+3.44'),\n",
       " ('salesforce.com, inc.', '+18.69'),\n",
       " ('Eargo, Inc.', '-14.81'),\n",
       " ('Ford Motor Company', '+0.48'),\n",
       " ('Apple Inc.', '+0.98'),\n",
       " ('Palantir Technologies Inc.', '+1.34'),\n",
       " ('American Airlines Group Inc.', '+0.38'),\n",
       " ('Bank of America Corporation', '+1.55'),\n",
       " ('The Hong Kong and China Gas Company Limited', '+0.6000'),\n",
       " ('COSCO SHIPPING Ports Limited', '+0.1200'),\n",
       " ('Cassava Sciences, Inc.', '+7.81'),\n",
       " ('QuantumScape Corporation', '+3.44'),\n",
       " ('Angi Inc.', '+1.65'),\n",
       " ('Arqit Quantum Inc.', '-7.60'),\n",
       " ('Spire Global, Inc.', '-3.77'),\n",
       " ('IronNet, Inc.', '-5.62'),\n",
       " ('China Evergrande Group', '-1.31'),\n",
       " ('Altice USA, Inc.', '-3.20'),\n",
       " ('ProFunds UltraSector Oil & Gas Fund Service Class', '+0.83'),\n",
       " ('ProFunds UltraSector Oil & Gas Fund Investor Class', '+0.97'),\n",
       " ('Fidelity Select Energy Portfolio', '+1.20'),\n",
       " ('Fidelity Advisor Energy Fund Class M', '+0.95'),\n",
       " ('Fidelity Advisor Energy Fund Class I', '+0.98'),\n",
       " ('Invesco QQQ Trust', '+3.41'),\n",
       " ('Arrow DWA Tactical: International ETF', '-0.63'),\n",
       " ('EUR/USD', '1.1733'),\n",
       " ('USD/JPY', '110.5470'),\n",
       " ('GBP/USD', '1.3713'),\n",
       " ('AUD/USD', '0.7283'),\n",
       " ('NZD/USD', '0.7056'),\n",
       " ('E-Mini S&P 500 Dec 21', '-6.00'),\n",
       " ('Mini Dow Jones Indus.-$5 Dec 21', '-33.00'),\n",
       " ('Nasdaq 100 Dec 21', '-46.25'),\n",
       " ('E-mini Russell 2000 Index Futur', '-2.90'),\n",
       " ('U.S. Treasury Bond Futures,Dec-', '-0.78'),\n",
       " ('GE Jan 2022 15.000 call', '-0.1000'),\n",
       " ('GE Jan 2022 12.000 call', '-0.2200'),\n",
       " ('GE Jan 2022 10.000 put', '+0.0300'),\n",
       " ('GE Jan 2022 7.000 put', '0.0000'),\n",
       " ('GE Jan 2022 10.000 call', '-0.3000'),\n",
       " ('BCRX Jan 2022 1.000 call', '0.00'),\n",
       " ('LKNCY Jan 2022 1.000 call', '0.00'),\n",
       " ('MVIS Jan 2022 0.500 call', '0.00')]"
      ]
     },
     "execution_count": 100,
     "metadata": {},
     "output_type": "execute_result"
    }
   ],
   "source": [
    "info"
   ]
  },
  {
   "cell_type": "code",
   "execution_count": null,
   "metadata": {},
   "outputs": [],
   "source": []
  }
 ],
 "metadata": {
  "kernelspec": {
   "display_name": "Python 3",
   "language": "python",
   "name": "python3"
  },
  "language_info": {
   "codemirror_mode": {
    "name": "ipython",
    "version": 3
   },
   "file_extension": ".py",
   "mimetype": "text/x-python",
   "name": "python",
   "nbconvert_exporter": "python",
   "pygments_lexer": "ipython3",
   "version": "3.7.6"
  }
 },
 "nbformat": 4,
 "nbformat_minor": 4
}
