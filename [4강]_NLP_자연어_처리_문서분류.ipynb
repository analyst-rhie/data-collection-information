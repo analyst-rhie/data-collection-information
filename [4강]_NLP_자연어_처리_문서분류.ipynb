{
  "nbformat": 4,
  "nbformat_minor": 0,
  "metadata": {
    "colab": {
      "name": "[4강] NLP 자연어 처리_문서분류.ipynb",
      "provenance": [],
      "collapsed_sections": [],
      "authorship_tag": "ABX9TyMNIqNZ8uBLgiQCm9HAUyfK",
      "include_colab_link": true
    },
    "kernelspec": {
      "name": "python3",
      "display_name": "Python 3"
    },
    "language_info": {
      "name": "python"
    }
  },
  "cells": [
    {
      "cell_type": "markdown",
      "metadata": {
        "id": "view-in-github",
        "colab_type": "text"
      },
      "source": [
        "<a href=\"https://colab.research.google.com/github/analyst-rhie/data-collection-information/blob/main/%5B4%EA%B0%95%5D_NLP_%EC%9E%90%EC%97%B0%EC%96%B4_%EC%B2%98%EB%A6%AC_%EB%AC%B8%EC%84%9C%EB%B6%84%EB%A5%98.ipynb\" target=\"_parent\"><img src=\"https://colab.research.google.com/assets/colab-badge.svg\" alt=\"Open In Colab\"/></a>"
      ]
    },
    {
      "cell_type": "markdown",
      "metadata": {
        "id": "yY_SurfsI8y1"
      },
      "source": [
        "### 문서 분류(Document Classification\n",
        "\n",
        "### 데이터 준비\n",
        "* 문서 분류에 필요한 데이터는 scikit-learn이 제공하는 20개의 주제를 가지는 뉴스그룹 데이터 사용\n",
        "* 텍스트는 CounterVectorizer 를 거쳐 DTM 으로 변환\n",
        "* DTM 행렬은 문서에 등장하는 단어들을 빈도 수 별로 표현한 행렬"
      ]
    },
    {
      "cell_type": "code",
      "metadata": {
        "colab": {
          "base_uri": "https://localhost:8080/"
        },
        "id": "_5zxJdtcIuRD",
        "outputId": "06a74733-1d81-4dd2-801f-45fb6aea32a1"
      },
      "source": [
        "from sklearn.datasets import fetch_20newsgroups\n",
        "from sklearn.feature_extraction.text import CountVectorizer\n",
        "from sklearn.model_selection import train_test_split\n",
        "\n",
        "news = fetch_20newsgroups()\n",
        "\n",
        "x=news.data\n",
        "y=news.target\n",
        "\n",
        "cv = CountVectorizer()\n",
        "x= cv.fit_transform(x)\n",
        "\n",
        "x_train, x_test, y_train, y_test = train_test_split(x,y,test_size=0.3)\n",
        "print(x_train.shape, y_train.shape, x_test.shape, y_test.shape)"
      ],
      "execution_count": 3,
      "outputs": [
        {
          "output_type": "stream",
          "name": "stdout",
          "text": [
            "(7919, 130107) (7919,) (3395, 130107) (3395,)\n"
          ]
        }
      ]
    },
    {
      "cell_type": "code",
      "metadata": {
        "id": "Q4hpvywYJzry"
      },
      "source": [
        "print(x_train[0]) #(0,56979)는 0번째 문서에서 56979번째 단어가 2번 등장했다\n",
        "#라는 의미이다."
      ],
      "execution_count": null,
      "outputs": []
    },
    {
      "cell_type": "code",
      "metadata": {
        "colab": {
          "base_uri": "https://localhost:8080/"
        },
        "id": "Rt6PRqJFPblf",
        "outputId": "b4ac2a0b-946e-4be9-c318-cb5c40f099f0"
      },
      "source": [
        "print(x)"
      ],
      "execution_count": 12,
      "outputs": [
        {
          "output_type": "stream",
          "name": "stdout",
          "text": [
            "  (0, 56979)\t3\n",
            "  (0, 75358)\t2\n",
            "  (0, 123162)\t2\n",
            "  (0, 118280)\t2\n",
            "  (0, 50527)\t2\n",
            "  (0, 124031)\t2\n",
            "  (0, 85354)\t1\n",
            "  (0, 114688)\t1\n",
            "  (0, 111322)\t1\n",
            "  (0, 123984)\t1\n",
            "  (0, 37780)\t5\n",
            "  (0, 68532)\t3\n",
            "  (0, 114731)\t5\n",
            "  (0, 87620)\t1\n",
            "  (0, 95162)\t1\n",
            "  (0, 64095)\t1\n",
            "  (0, 98949)\t1\n",
            "  (0, 90379)\t1\n",
            "  (0, 118983)\t1\n",
            "  (0, 89362)\t3\n",
            "  (0, 79666)\t1\n",
            "  (0, 40998)\t1\n",
            "  (0, 92081)\t1\n",
            "  (0, 76032)\t1\n",
            "  (0, 4605)\t1\n",
            "  :\t:\n",
            "  (11313, 110796)\t2\n",
            "  (11313, 106209)\t1\n",
            "  (11313, 31386)\t1\n",
            "  (11313, 124103)\t1\n",
            "  (11313, 116027)\t1\n",
            "  (11313, 33941)\t1\n",
            "  (11313, 107339)\t1\n",
            "  (11313, 101950)\t1\n",
            "  (11313, 109661)\t1\n",
            "  (11313, 82480)\t1\n",
            "  (11313, 38329)\t2\n",
            "  (11313, 94524)\t1\n",
            "  (11313, 27696)\t1\n",
            "  (11313, 113435)\t1\n",
            "  (11313, 82355)\t1\n",
            "  (11313, 38325)\t1\n",
            "  (11313, 94291)\t1\n",
            "  (11313, 115621)\t1\n",
            "  (11313, 75884)\t1\n",
            "  (11313, 60910)\t2\n",
            "  (11313, 72419)\t1\n",
            "  (11313, 72881)\t1\n",
            "  (11313, 70020)\t1\n",
            "  (11313, 8653)\t1\n",
            "  (11313, 124370)\t1\n"
          ]
        }
      ]
    },
    {
      "cell_type": "markdown",
      "metadata": {
        "id": "XyQEZga9Kn4B"
      },
      "source": [
        "### scikit-learn을 이용한 20개의 문서분류 "
      ]
    },
    {
      "cell_type": "code",
      "metadata": {
        "id": "XKPhLBl-Kk0L"
      },
      "source": [
        "from sklearn.metrics import accuracy_score"
      ],
      "execution_count": 7,
      "outputs": []
    },
    {
      "cell_type": "markdown",
      "metadata": {
        "id": "gnqiImQbO_Io"
      },
      "source": [
        "### 로지스틱 회귀 \n",
        "* 로지스틱 회귀는 다중분류 회귀에 적합하지 않음."
      ]
    },
    {
      "cell_type": "code",
      "metadata": {
        "colab": {
          "base_uri": "https://localhost:8080/"
        },
        "id": "8Jnv3pVwKbW4",
        "outputId": "15edcd53-362d-4238-f76f-ea61c7dbf9c4"
      },
      "source": [
        "from sklearn.linear_model import LogisticRegression\n",
        "LR = LogisticRegression()\n",
        "LR.fit(x_train, y_train)\n",
        "pred = LR.predict(x_test)\n",
        "acc = accuracy_score(pred,y_test)\n",
        "print(acc)"
      ],
      "execution_count": 14,
      "outputs": [
        {
          "output_type": "stream",
          "name": "stdout",
          "text": [
            "0.865979381443299\n"
          ]
        }
      ]
    },
    {
      "cell_type": "markdown",
      "metadata": {
        "id": "up5K0jPmQgEA"
      },
      "source": [
        "### 서포트 벡터 머신(Support Vector Machines)\n",
        "* 회귀, 분류, 이상치 탐지 등에 사용되는 지도학습 방법\n",
        "* 클래스 사이의 경계에 위치한 데이터 포인트를 서포트 벡터(support vector)라고 함\n",
        "* 각 서포트 벡터가 클래스 사이의 결정 경계를 구분하는데 얼마나 중요한지를 학습\n",
        "  * 결정경계 학습이 주요 포인트\n",
        "* 각 서포트 벡터 사이의 마진이 가장 큰 방향으로 학습\n",
        "* 서포트 벡터 까지의 거리와 서포트 벡터의 중요도를 기반으로 예측을 수행"
      ]
    },
    {
      "cell_type": "code",
      "metadata": {
        "colab": {
          "base_uri": "https://localhost:8080/"
        },
        "id": "mkm8VcKePSiI",
        "outputId": "75af253c-1766-4992-ca91-18e30f82aa46"
      },
      "source": [
        "from sklearn import svm\n",
        "SVM = svm.SVC(kernel='linear')\n",
        "SVM.fit(x_train, y_train)\n",
        "pred = SVM.predict(x_test)\n",
        "acc = accuracy_score(pred, y_test)\n",
        "acc"
      ],
      "execution_count": 18,
      "outputs": [
        {
          "output_type": "execute_result",
          "data": {
            "text/plain": [
              "0.8173784977908689"
            ]
          },
          "metadata": {},
          "execution_count": 18
        }
      ]
    },
    {
      "cell_type": "markdown",
      "metadata": {
        "id": "FMtg7WKXRP2P"
      },
      "source": [
        "### 나이브 베이스 분류기 (Naive Bayes Classification)\n",
        "* 베이즈 정리를 적용한 확률적 분류 알고리즘\n",
        "* 모든 특성들이 독립임을 가정(naive 가정)\n",
        "* 입력 특성에 따라 3개의 분류기 존재\n",
        "  * 가우시안 나이브 베이즈 분류기\n",
        "  * 베르누이 나이브 베이즈 분류기\n",
        "  * 다항 나이브 베이즈 분류기\n",
        "    * 여기서는 다항 나이브 베이즈 분류기를 사용하겠다."
      ]
    },
    {
      "cell_type": "markdown",
      "metadata": {
        "id": "AVazdL46RtD9"
      },
      "source": [
        "### DTM을 이용한 나이브 베이즈\n"
      ]
    },
    {
      "cell_type": "code",
      "metadata": {
        "colab": {
          "base_uri": "https://localhost:8080/"
        },
        "id": "s3fNZGaJRKZe",
        "outputId": "892d47e9-0885-42af-b100-176191482719"
      },
      "source": [
        "from sklearn.naive_bayes import MultinomialNB\n",
        "NB = MultinomialNB()\n",
        "NB.fit(x_train, y_train)\n",
        "pred = NB.predict(x_test)\n",
        "acc = accuracy_score(pred, y_test)\n",
        "print(acc)"
      ],
      "execution_count": 21,
      "outputs": [
        {
          "output_type": "stream",
          "name": "stdout",
          "text": [
            "0.8276877761413843\n"
          ]
        }
      ]
    },
    {
      "cell_type": "markdown",
      "metadata": {
        "id": "zse1Ln8sSZiw"
      },
      "source": [
        "* tf-idf를 이용한 정확도 향상\n",
        "  * 위의 DTM을 tf-idf로 바꾸어 정확도를 향상시킬 수 있다."
      ]
    },
    {
      "cell_type": "code",
      "metadata": {
        "colab": {
          "base_uri": "https://localhost:8080/"
        },
        "id": "5Xq7a6mdSgJe",
        "outputId": "da14271a-163d-426e-e6b0-232bd3634ce7"
      },
      "source": [
        "from sklearn.feature_extraction.text import TfidfTransformer\n",
        "tfidf = TfidfTransformer()\n",
        "x_train_tf = tfidf.fit_transform(x_train)\n",
        "x_test_tf = tfidf.fit_transform(x_test)\n",
        "\n",
        "NB.fit(x_train_tf, y_train)\n",
        "pred = NB.predict(x_test_tf)\n",
        "acc = accuracy_score(pred, y_test)\n",
        "acc"
      ],
      "execution_count": 24,
      "outputs": [
        {
          "output_type": "execute_result",
          "data": {
            "text/plain": [
              "0.8126656848306333"
            ]
          },
          "metadata": {},
          "execution_count": 24
        }
      ]
    },
    {
      "cell_type": "markdown",
      "metadata": {
        "id": "9a24DU9hTHyO"
      },
      "source": [
        "### 결정 트리(Decision Tree)\n",
        "* 분류와 회귀에 사용되는 지도 학습 방법\n",
        "* 데이터 특성으로부터 추론된 결정 규칙을 통해 값을 예측\n",
        "* if-then-else 결정 규칙을 통해 데이터 학습\n",
        "* 트리의 깊이가 깊을수록 복잡한 모델\n"
      ]
    },
    {
      "cell_type": "code",
      "metadata": {
        "colab": {
          "base_uri": "https://localhost:8080/"
        },
        "id": "LGBY7jllSNSk",
        "outputId": "122f9a8b-41da-4cc3-c5ea-2d6c9c96ee6c"
      },
      "source": [
        "from sklearn.tree import DecisionTreeClassifier\n",
        "\n",
        "DT = DecisionTreeClassifier()\n",
        "DT.fit(x_train, y_train)\n",
        "pred = DT.predict(x_test)\n",
        "acc = accuracy_score(pred, y_test)\n",
        "print(acc)"
      ],
      "execution_count": 26,
      "outputs": [
        {
          "output_type": "stream",
          "name": "stdout",
          "text": [
            "0.619440353460972\n"
          ]
        }
      ]
    },
    {
      "cell_type": "markdown",
      "metadata": {
        "id": "OpQ9NZshTyhH"
      },
      "source": [
        "### XGBoost\n",
        "* 트리 기반의 앙상블 기법 \n",
        "* 분류에 있어서 다른 알고리즘보다 좋은 예측 성능을 보여줌\n",
        "* XGBoost는 GBM기반이지만, GBM의 단점인 느린 수행 시간과 과적합 규제 부재 등의 문제를 해결\n",
        "* 병렬 CPU 환경에서 빠르게 학습 가능 "
      ]
    },
    {
      "cell_type": "code",
      "metadata": {
        "id": "qIw_oQGcUEUf"
      },
      "source": [
        "from xgboost import XGBClassifier\n",
        "xgb = XGBClassifier(n_estimators=30, learning_rate=0.05, max_depth=3)\n",
        "xgb.fit(x_train, y_train)\n",
        "pred = xgb.predict(x_test)\n"
      ],
      "execution_count": null,
      "outputs": []
    },
    {
      "cell_type": "code",
      "metadata": {
        "colab": {
          "base_uri": "https://localhost:8080/"
        },
        "id": "3cEu5P0FUwxZ",
        "outputId": "5f8c05aa-99c0-4c31-f969-d9a482a98a0f"
      },
      "source": [
        "acc = accuracy_score(pred, y_test)\n",
        "print(acc)"
      ],
      "execution_count": 28,
      "outputs": [
        {
          "output_type": "stream",
          "name": "stdout",
          "text": [
            "0.6913107511045655\n"
          ]
        }
      ]
    },
    {
      "cell_type": "markdown",
      "metadata": {
        "id": "Euv-4OCeUazP"
      },
      "source": [
        "### 교차 검증\n",
        "* 일반 검증은 학습 데이터가 테스트 데이터로 사용되지 않음.\n",
        "* 교차 검증은 데이터를 n개의 집합으로 나누어 정확도를 계산해 학습 데이터로 사용된 데이터도 테스트 데이터로 사용\n",
        "* 교차 검증을 사용하면 일반 검증보다 모델의 일반화가 잘 되어 있는지 평가 가능\n",
        "* 앞서 구성한 나이브 베이즈 모델을 교차 검증 해보겠다."
      ]
    },
    {
      "cell_type": "code",
      "metadata": {
        "colab": {
          "base_uri": "https://localhost:8080/"
        },
        "id": "Ox8gUE2PTs5E",
        "outputId": "e324385b-aa37-4daf-e691-e51fa548b7b4"
      },
      "source": [
        "from sklearn.model_selection import cross_val_score\n",
        "\n",
        "scores = cross_val_score(NB, x, y, cv=5) #5개의 집합으로 분류\n",
        "print(scores, scores.mean())"
      ],
      "execution_count": 29,
      "outputs": [
        {
          "output_type": "stream",
          "name": "stdout",
          "text": [
            "[0.83870968 0.83826779 0.82368537 0.83031374 0.83642794] 0.833480903927519\n"
          ]
        }
      ]
    },
    {
      "cell_type": "markdown",
      "metadata": {
        "id": "HS1VC1snVL2K"
      },
      "source": [
        "* 교차 검증을 통해 일반 검증보다 좀 더 일반화된 모델 생성 가능\n",
        "* 교차 검증은 일반 검증에 비해 n번 검증을 해 비용이 더 많이 소요"
      ]
    },
    {
      "cell_type": "markdown",
      "metadata": {
        "id": "v5jti3wJVUVI"
      },
      "source": [
        "### 정밀도와 재현률\n",
        "* 정밀도(precision)는 양성 클래스(정답)으로 예측한 샘플이 양성 클래스일 확률을 의미\n",
        "* 모델이 얼마나 양성 클래스를 잘 예측하는지를 나타냄\n",
        "* 정밀도와 재현율의 가중조화평균인 F1-score라는 지표는 정확도에 비해 더 효과적인 모델 분석 지표로 알려져 있음.\n",
        "* 직접 계산할 수도 있으나, scikit-learn은 이를 편리하게 계산해주는 함수를 제공\n",
        "\n",
        "* 다중 클래스 분류 문제에서 정밀도와 재헌률을 계산할 때는 클래스간의 지표를 어떻게 합칠지 지정 필요\n",
        "  * None - 클래스간 지표를 합치지 말고 그대로 출력\n",
        "  * micro - 정밀도와 재헌률이 같음, 이로 인해 f1-score도 정밀도, 재헌률과 동일\n",
        "  * macro - 클래스간 지표를 단순 평균한 값\n",
        "  * weighted - 클래스간 지표를 가중 평균한 "
      ]
    },
    {
      "cell_type": "code",
      "metadata": {
        "colab": {
          "base_uri": "https://localhost:8080/"
        },
        "id": "iSvJP1yNV5hb",
        "outputId": "1784f740-0aab-4f04-ab2e-c06805b1abcd"
      },
      "source": [
        "from sklearn.metrics import precision_score, recall_score, f1_score\n",
        "## micro\n",
        "precision = precision_score(pred, y_test, average='micro')\n",
        "recall = recall_score(pred, y_test, average='micro')\n",
        "f1 = f1_score(pred, y_test, average='micro')\n",
        "\n",
        "print(precision, recall, f1) # average = 'micro'시 모든 값이 동일함."
      ],
      "execution_count": 31,
      "outputs": [
        {
          "output_type": "stream",
          "name": "stdout",
          "text": [
            "0.6913107511045655 0.6913107511045655 0.6913107511045655\n"
          ]
        }
      ]
    },
    {
      "cell_type": "code",
      "metadata": {
        "colab": {
          "base_uri": "https://localhost:8080/"
        },
        "id": "wNOqST41Wko0",
        "outputId": "d3078b49-4a1d-4058-c70e-ca2b360323fb"
      },
      "source": [
        "## macro\n",
        "precision = precision_score(pred, y_test, average='macro')\n",
        "recall = recall_score(pred, y_test, average='macro')\n",
        "f1 = f1_score(pred, y_test, average='macro')\n",
        "\n",
        "print(precision, recall, f1) # average = 'micro'시 모든 값이 동일함."
      ],
      "execution_count": 32,
      "outputs": [
        {
          "output_type": "stream",
          "name": "stdout",
          "text": [
            "0.685685171341296 0.7234863806013618 0.6963034440310789\n"
          ]
        }
      ]
    },
    {
      "cell_type": "markdown",
      "metadata": {
        "id": "R9Kq8yQKWyB8"
      },
      "source": [
        "### 그리드 서치를 통한 파라미터 최적화\n",
        "* 그리드 검색을 사용하면 분류기에 사용하는 파라미터 최적화 가능\n",
        "* 그리드 검색을 통해 앞서 구성한 나이브 베이즈 모델의 'alpha'파라미터를 최적화시키는 예제\n",
        "\n",
        "  * estimator : 사용 모델 객체\n",
        "  * parm_grid : 사용 객체 : 지정 파라미터 리스트로 구성된 딕셔너리\n",
        "  * scoring : 최적화하고자 하는 성능 지표\n",
        "  * cv : 교차 검증 분할 개수"
      ]
    },
    {
      "cell_type": "code",
      "metadata": {
        "colab": {
          "base_uri": "https://localhost:8080/"
        },
        "id": "E7D-3j97XImd",
        "outputId": "2554e6e0-25b6-491b-c9da-d04e4c78f8e5"
      },
      "source": [
        "from sklearn.model_selection import GridSearchCV\n",
        "\n",
        "GS = GridSearchCV(estimator=NB, param_grid={'alpha':[0.001,0.01,0.1,1.]}, scoring='accuracy',cv=10)\n",
        "GS.fit(x,y)\n",
        "\n",
        "print(GS.best_score_)\n",
        "print(GS.best_params_)"
      ],
      "execution_count": 33,
      "outputs": [
        {
          "output_type": "stream",
          "name": "stdout",
          "text": [
            "0.8897820965842167\n",
            "{'alpha': 0.001}\n"
          ]
        }
      ]
    },
    {
      "cell_type": "code",
      "metadata": {
        "colab": {
          "base_uri": "https://localhost:8080/"
        },
        "id": "X8eg8Xc5VIRS",
        "outputId": "964308ac-99c9-4d21-84b3-2e1dfd2ab081"
      },
      "source": [
        "## 최고 좋은 성능 지표가 0.001 이므로 alpha값을 조절해본다.\n",
        "\n",
        "GS = GridSearchCV(estimator=NB, param_grid={'alpha':[0.001,0.002,0.003,0.004,0.005]}, scoring='accuracy',cv=10)\n",
        "GS.fit(x,y)\n",
        "\n",
        "print(GS.best_score_)\n",
        "print(GS.best_params_)"
      ],
      "execution_count": 34,
      "outputs": [
        {
          "output_type": "stream",
          "name": "stdout",
          "text": [
            "0.8897820965842167\n",
            "{'alpha': 0.001}\n"
          ]
        }
      ]
    },
    {
      "cell_type": "code",
      "metadata": {
        "colab": {
          "base_uri": "https://localhost:8080/"
        },
        "id": "PvIp7AoxX_cx",
        "outputId": "734913b5-b73a-484f-f1be-80914e5903fb"
      },
      "source": [
        "# 그래도 0.001을 선택하므로 0.001보다 낮은 값들을 줘본다.\n",
        "\n",
        "GS = GridSearchCV(estimator=NB, param_grid={'alpha':[0.0005,0.0008,0.001]}, scoring='accuracy',cv=10)\n",
        "GS.fit(x,y)\n",
        "\n",
        "print(GS.best_score_)\n",
        "print(GS.best_params_)\n",
        "\n",
        "#0.0005가 최종선택되며 89% 정확도를 보임."
      ],
      "execution_count": 35,
      "outputs": [
        {
          "output_type": "stream",
          "name": "stdout",
          "text": [
            "0.8898702014852862\n",
            "{'alpha': 0.0005}\n"
          ]
        }
      ]
    },
    {
      "cell_type": "code",
      "metadata": {
        "id": "IMTg6lr-YNj3"
      },
      "source": [
        ""
      ],
      "execution_count": null,
      "outputs": []
    }
  ]
}